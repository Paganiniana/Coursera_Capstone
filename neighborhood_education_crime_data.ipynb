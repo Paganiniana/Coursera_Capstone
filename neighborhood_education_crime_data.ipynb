{
 "cells": [
  {
   "cell_type": "markdown",
   "metadata": {},
   "source": [
    "## Crime Data import"
   ]
  },
  {
   "cell_type": "code",
   "execution_count": 2,
   "metadata": {},
   "outputs": [],
   "source": [
    "# Import data\n",
    "\n",
    "ny_crimes_df = pd.read_csv('data/NYPD_Complaint_Data_Historic.csv')"
   ]
  },
  {
   "cell_type": "code",
   "execution_count": null,
   "metadata": {},
   "outputs": [],
   "source": [
    "# Get random selection from data\n",
    "\n",
    "ny_crimes_df = ny_crimes_df.sample(frac=0.10).reset_index(drop=True)"
   ]
  },
  {
   "cell_type": "code",
   "execution_count": 3,
   "metadata": {},
   "outputs": [],
   "source": [
    "# Select only desirable columns\n",
    "\n",
    "# Reshape crime data - get only desired columns\n",
    "\n",
    "ny_crimes_df = ny_crimes_df[['CMPLNT_NUM', 'KY_CD', 'OFNS_DESC', 'Latitude', 'Longitude']] \n",
    "\n",
    "# Replace column names\n",
    "\n",
    "temp_cols = ['complaint_id', 'event_code', 'event_description', 'lat', 'lng']\n",
    "ny_crimes_df.columns = temp_cols\n",
    "\n",
    "ny_crimes_df.head()\n"
   ]
  },
  {
   "cell_type": "code",
   "execution_count": null,
   "metadata": {},
   "outputs": [],
   "source": [
    "# Repicate function for assigning neighborhood by lat/lng\n",
    "\n",
    "from geopy import distance\n",
    "import pandas as pd\n",
    "\n",
    "# Requires importing neighborhood data\n",
    "\n",
    "neighborhood_df = pd.read_csv('data/100_venues_for_all_ny_hoods.csv')\n",
    "\n",
    "def get_closest_neighborhood(lat, lng):\n",
    "    temp_df = neighborhood_df[['Neighborhood', 'Neighborhood Latitude', 'Neighborhood Longitude']]\n",
    "    distance_list = []\n",
    "\n",
    "    # loop through neighborhoods and get distance\n",
    "    for n, n_lat, n_lng in zip(temp_df['Neighborhood'], temp_df['Neighborhood Latitude'], temp_df['Neighborhood Longitude']):\n",
    "        distance_list.append(distance.distance(\n",
    "            (lat, lng),\n",
    "            (n_lat, n_lng)\n",
    "        ).km)\n",
    "\n",
    "    # Use index of minimum distance to get neighborhood name \n",
    "    return temp_df['Neighborhood'][distance_list.index(min(distance_list))]\n"
   ]
  },
  {
   "cell_type": "markdown",
   "metadata": {},
   "source": [
    "## Assign neighborhoods for each incident"
   ]
  },
  {
   "cell_type": "code",
   "execution_count": null,
   "metadata": {},
   "outputs": [],
   "source": [
    "# Crimes\n",
    "\n",
    "stop = ny_crimes_df.shape[0]\n",
    "updates = range(0, stop, 500)\n",
    "\n",
    "neighborhoods = []\n",
    "for lat, lng in zip(ny_crimes_df['lat'], ny_crimes_df['lng']):\n",
    "    try:\n",
    "        n = get_closest_neighborhood(lat, lng)\n",
    "    except:\n",
    "        n = np.nan\n",
    "    neighborhoods.append(n)\n",
    "    for i in updates:\n",
    "        if len(neighborhoods) == i:\n",
    "            print(f\"Matched {i} events.\")\n",
    "\n",
    "print(neighborhoods[0])\n",
    "\n",
    "ny_crimes_df['neighborhood'] = neighborhoods\n",
    "\n",
    "ny_crimes_df.head()"
   ]
  },
  {
   "cell_type": "code",
   "execution_count": null,
   "metadata": {},
   "outputs": [],
   "source": [
    "# save data\n",
    "\n",
    "ny_crimes_df.to_csv('data/parsed_crimes_with_neighborhoods.csv')"
   ]
  }
 ],
 "metadata": {
  "language_info": {
   "codemirror_mode": {
    "name": "ipython",
    "version": 3
   },
   "file_extension": ".py",
   "mimetype": "text/x-python",
   "name": "python",
   "nbconvert_exporter": "python",
   "pygments_lexer": "ipython3",
   "version": "3.8.2-final"
  },
  "orig_nbformat": 2,
  "kernelspec": {
   "name": "python38264bita7224e095fd2487f8cc68b5f4fe87259",
   "display_name": "Python 3.8.2 64-bit"
  }
 },
 "nbformat": 4,
 "nbformat_minor": 2
}