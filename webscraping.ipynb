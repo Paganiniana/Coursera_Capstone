{
 "cells": [
  {
   "cell_type": "markdown",
   "metadata": {},
   "source": [
    "# Scraping the Toronto Postal Codes\n",
    "\n",
    "This project requires a complete list of Toronto city postal codes.  Therefore, we will be scraping said list from [this](https://en.wikipedia.org/wiki/List_of_postal_codes_of_Canada:_M) Wikipedia article.\n",
    "\n",
    "## Goal\n",
    "\n",
    "1. Identify the format of the table on Wikipedia,\n",
    "2. Scrape the table, using BeautifulSoup\n",
    "3. Organize said table into a pandas DF\n",
    "4. Save the df as a CSV file\n"
   ]
  },
  {
   "cell_type": "code",
   "execution_count": 1,
   "metadata": {},
   "outputs": [],
   "source": [
    "# Import required libraries\n",
    "\n",
    "import requests\n",
    "from bs4 import BeautifulSoup\n",
    "import pandas as pd \n",
    "import numpy as np"
   ]
  },
  {
   "cell_type": "markdown",
   "metadata": {},
   "source": [
    "## Part 1, Identify table structure\n",
    "\n",
    "If one inspects the table on Wikipedia, it appears to be of the following format:\n",
    "\n",
    "```html\n",
    "<table>\n",
    "    <thead> \n",
    "        <tr> ... <th>column names</th> ... </tr>\n",
    "    </thead>\n",
    "    <tbody> \n",
    "        ...\n",
    "        <tr> ... <td>column values</td> ...</tr>\n",
    "        ....\n",
    "    </tbody>\n",
    "</table>\n",
    "\n",
    "```\n",
    "\n",
    "It appears simple enough to be able to parse the thing in an iterative fashion.  Furthermore, a quick search in the developer console confirms that the table we want is the first table on the page.\n"
   ]
  },
  {
   "cell_type": "markdown",
   "metadata": {},
   "source": [
    "## Part 2, Scrape the table "
   ]
  },
  {
   "cell_type": "code",
   "execution_count": 9,
   "metadata": {},
   "outputs": [],
   "source": [
    "# get text of html page \n",
    "\n",
    "URL = 'https://en.wikipedia.org/wiki/List_of_postal_codes_of_Canada:_M'\n",
    "page_html = requests.get(URL).text\n",
    "\n",
    "# convert to soup \n",
    "\n",
    "soup = BeautifulSoup(page_html, 'lxml')\n",
    "\n",
    "# get the table \n",
    "\n",
    "table = soup.find('tbody')\n"
   ]
  },
  {
   "cell_type": "code",
   "execution_count": 95,
   "metadata": {},
   "outputs": [
    {
     "output_type": "stream",
     "name": "stdout",
     "text": "<class 'bs4.element.Tag'>\n"
    }
   ],
   "source": [
    "# print to confirm acquisition\n",
    "\n",
    "print(type(table))"
   ]
  },
  {
   "cell_type": "markdown",
   "metadata": {},
   "source": [
    "## Part 3, Organize into a data frame \n"
   ]
  },
  {
   "cell_type": "code",
   "execution_count": 89,
   "metadata": {},
   "outputs": [
    {
     "output_type": "execute_result",
     "data": {
      "text/plain": "    code           borough                                       neighborhood\n0    M3A        North York                                          Parkwoods\n1    M4A        North York                                   Victoria Village\n2    M5A  Downtown Toronto                         Regent Park / Harbourfront\n3    M6A        North York                  Lawrence Manor / Lawrence Heights\n4    M7A  Downtown Toronto       Queen's Park / Ontario Provincial Government\n..   ...               ...                                                ...\n98   M8X         Etobicoke   The Kingsway / Montgomery Road  / Old Mill North\n99   M4Y  Downtown Toronto                               Church and Wellesley\n100  M7Y      East Toronto              Business reply mail Processing Centre\n101  M8Y         Etobicoke  Old Mill South / King's Mill Park / Sunnylea /...\n102  M8Z         Etobicoke  Mimico NW / The Queensway West / South of Bloo...\n\n[103 rows x 3 columns]",
      "text/html": "<div>\n<style scoped>\n    .dataframe tbody tr th:only-of-type {\n        vertical-align: middle;\n    }\n\n    .dataframe tbody tr th {\n        vertical-align: top;\n    }\n\n    .dataframe thead th {\n        text-align: right;\n    }\n</style>\n<table border=\"1\" class=\"dataframe\">\n  <thead>\n    <tr style=\"text-align: right;\">\n      <th></th>\n      <th>code</th>\n      <th>borough</th>\n      <th>neighborhood</th>\n    </tr>\n  </thead>\n  <tbody>\n    <tr>\n      <th>0</th>\n      <td>M3A</td>\n      <td>North York</td>\n      <td>Parkwoods</td>\n    </tr>\n    <tr>\n      <th>1</th>\n      <td>M4A</td>\n      <td>North York</td>\n      <td>Victoria Village</td>\n    </tr>\n    <tr>\n      <th>2</th>\n      <td>M5A</td>\n      <td>Downtown Toronto</td>\n      <td>Regent Park / Harbourfront</td>\n    </tr>\n    <tr>\n      <th>3</th>\n      <td>M6A</td>\n      <td>North York</td>\n      <td>Lawrence Manor / Lawrence Heights</td>\n    </tr>\n    <tr>\n      <th>4</th>\n      <td>M7A</td>\n      <td>Downtown Toronto</td>\n      <td>Queen's Park / Ontario Provincial Government</td>\n    </tr>\n    <tr>\n      <th>...</th>\n      <td>...</td>\n      <td>...</td>\n      <td>...</td>\n    </tr>\n    <tr>\n      <th>98</th>\n      <td>M8X</td>\n      <td>Etobicoke</td>\n      <td>The Kingsway / Montgomery Road  / Old Mill North</td>\n    </tr>\n    <tr>\n      <th>99</th>\n      <td>M4Y</td>\n      <td>Downtown Toronto</td>\n      <td>Church and Wellesley</td>\n    </tr>\n    <tr>\n      <th>100</th>\n      <td>M7Y</td>\n      <td>East Toronto</td>\n      <td>Business reply mail Processing Centre</td>\n    </tr>\n    <tr>\n      <th>101</th>\n      <td>M8Y</td>\n      <td>Etobicoke</td>\n      <td>Old Mill South / King's Mill Park / Sunnylea /...</td>\n    </tr>\n    <tr>\n      <th>102</th>\n      <td>M8Z</td>\n      <td>Etobicoke</td>\n      <td>Mimico NW / The Queensway West / South of Bloo...</td>\n    </tr>\n  </tbody>\n</table>\n<p>103 rows × 3 columns</p>\n</div>"
     },
     "metadata": {},
     "execution_count": 89
    }
   ],
   "source": [
    "# Set up temporary arrays to hold values \n",
    "\n",
    "codes = []\n",
    "boroughs = []\n",
    "neighborhoods = []\n",
    "\n",
    "# Iterate through table rows\n",
    "\n",
    "for row in table.find_all('tr'):\n",
    "    # Assume following structure,\n",
    "    #   0 - code\n",
    "    #   1 - borough\n",
    "    #   2 - neighborhood \n",
    "    tds = row.find_all('td')\n",
    "    try:\n",
    "        codes.append(tds[0].text)\n",
    "    except:\n",
    "        codes.append(None)\n",
    "    try:\n",
    "        boroughs.append(tds[1].text)\n",
    "    except:\n",
    "        boroughs.append(None)\n",
    "    try:\n",
    "        neighborhoods.append(tds[2].text)\n",
    "    except:\n",
    "        neighborhoods.append(None)\n",
    "\n",
    "# Create data frame \n",
    "\n",
    "codes_df = pd.DataFrame({\n",
    "    \"code\": codes,\n",
    "    \"borough\":boroughs,\n",
    "    \"neighborhood\": neighborhoods\n",
    "})\n",
    "\n",
    "# Remove first row and reset index\n",
    "\n",
    "codes_df.drop(0, inplace=True)\n",
    "codes_df.reset_index(drop=True, inplace=True)\n",
    "\n",
    "# Remove \\n from each field\n",
    "\n",
    "def remove_newline(s):\n",
    "    return s.replace('\\n', '')\n",
    "\n",
    "codes_df['code'] = list(map(remove_newline, codes_df['code']))\n",
    "codes_df['borough'] = list(map(remove_newline, codes_df['borough']))\n",
    "codes_df['neighborhood'] = list(map(remove_newline, codes_df['neighborhood']))\n",
    "\n",
    "# Drop rows without an assigned borrow\n",
    "\n",
    "index = codes_df['borough'] != \"Not assigned\"\n",
    "codes_df = codes_df[index]\n",
    "\n",
    "codes_df.reset_index(drop=True, inplace=True)\n",
    "\n",
    "codes_df"
   ]
  },
  {
   "cell_type": "markdown",
   "metadata": {},
   "source": [
    "### Note\n",
    "\n",
    "The assignment on Coursera's website lists the following instructions:\n",
    "\n",
    "* Combine duplicated postal codes\n",
    "* Assign borough name to unassigned neighborhoods\n",
    "\n",
    "An examination of the above dataframe will reveal that there are no such features."
   ]
  },
  {
   "cell_type": "code",
   "execution_count": 84,
   "metadata": {},
   "outputs": [
    {
     "output_type": "stream",
     "name": "stdout",
     "text": "There are 0 duplicated codes.\nThere are 0 instances without neighborhood names.\n"
    }
   ],
   "source": [
    "# Duplicated postal code?\n",
    "\n",
    "unique_codes = len(codes_df['code'].unique())\n",
    "total_codes = len(codes_df['code'])\n",
    "\n",
    "print(f\"There are {total_codes - unique_codes} duplicated codes.\")\n",
    "\n",
    "# Rows without neighborhood names\n",
    "\n",
    "no_neigh = sum(codes_df['neighborhood'] == \"Not assigned\")\n",
    "print(f\"There are {no_neigh} instances without neighborhood names.\")\n"
   ]
  },
  {
   "cell_type": "code",
   "execution_count": 90,
   "metadata": {},
   "outputs": [
    {
     "output_type": "execute_result",
     "data": {
      "text/plain": "    PostalCode           Borough  \\\n0          M3A        North York   \n1          M4A        North York   \n2          M5A  Downtown Toronto   \n3          M6A        North York   \n4          M7A  Downtown Toronto   \n..         ...               ...   \n98         M8X         Etobicoke   \n99         M4Y  Downtown Toronto   \n100        M7Y      East Toronto   \n101        M8Y         Etobicoke   \n102        M8Z         Etobicoke   \n\n                                          Neighborhood  \n0                                            Parkwoods  \n1                                     Victoria Village  \n2                           Regent Park / Harbourfront  \n3                    Lawrence Manor / Lawrence Heights  \n4         Queen's Park / Ontario Provincial Government  \n..                                                 ...  \n98    The Kingsway / Montgomery Road  / Old Mill North  \n99                                Church and Wellesley  \n100              Business reply mail Processing Centre  \n101  Old Mill South / King's Mill Park / Sunnylea /...  \n102  Mimico NW / The Queensway West / South of Bloo...  \n\n[103 rows x 3 columns]",
      "text/html": "<div>\n<style scoped>\n    .dataframe tbody tr th:only-of-type {\n        vertical-align: middle;\n    }\n\n    .dataframe tbody tr th {\n        vertical-align: top;\n    }\n\n    .dataframe thead th {\n        text-align: right;\n    }\n</style>\n<table border=\"1\" class=\"dataframe\">\n  <thead>\n    <tr style=\"text-align: right;\">\n      <th></th>\n      <th>PostalCode</th>\n      <th>Borough</th>\n      <th>Neighborhood</th>\n    </tr>\n  </thead>\n  <tbody>\n    <tr>\n      <th>0</th>\n      <td>M3A</td>\n      <td>North York</td>\n      <td>Parkwoods</td>\n    </tr>\n    <tr>\n      <th>1</th>\n      <td>M4A</td>\n      <td>North York</td>\n      <td>Victoria Village</td>\n    </tr>\n    <tr>\n      <th>2</th>\n      <td>M5A</td>\n      <td>Downtown Toronto</td>\n      <td>Regent Park / Harbourfront</td>\n    </tr>\n    <tr>\n      <th>3</th>\n      <td>M6A</td>\n      <td>North York</td>\n      <td>Lawrence Manor / Lawrence Heights</td>\n    </tr>\n    <tr>\n      <th>4</th>\n      <td>M7A</td>\n      <td>Downtown Toronto</td>\n      <td>Queen's Park / Ontario Provincial Government</td>\n    </tr>\n    <tr>\n      <th>...</th>\n      <td>...</td>\n      <td>...</td>\n      <td>...</td>\n    </tr>\n    <tr>\n      <th>98</th>\n      <td>M8X</td>\n      <td>Etobicoke</td>\n      <td>The Kingsway / Montgomery Road  / Old Mill North</td>\n    </tr>\n    <tr>\n      <th>99</th>\n      <td>M4Y</td>\n      <td>Downtown Toronto</td>\n      <td>Church and Wellesley</td>\n    </tr>\n    <tr>\n      <th>100</th>\n      <td>M7Y</td>\n      <td>East Toronto</td>\n      <td>Business reply mail Processing Centre</td>\n    </tr>\n    <tr>\n      <th>101</th>\n      <td>M8Y</td>\n      <td>Etobicoke</td>\n      <td>Old Mill South / King's Mill Park / Sunnylea /...</td>\n    </tr>\n    <tr>\n      <th>102</th>\n      <td>M8Z</td>\n      <td>Etobicoke</td>\n      <td>Mimico NW / The Queensway West / South of Bloo...</td>\n    </tr>\n  </tbody>\n</table>\n<p>103 rows × 3 columns</p>\n</div>"
     },
     "metadata": {},
     "execution_count": 90
    }
   ],
   "source": [
    "# Rename columns to match rubric\n",
    "\n",
    "codes_df.columns = [\"PostalCode\", \"Borough\", \"Neighborhood\"]\n",
    "codes_df"
   ]
  },
  {
   "cell_type": "code",
   "execution_count": 92,
   "metadata": {},
   "outputs": [],
   "source": [
    "# Save the dataframe to a file \n",
    "\n",
    "codes_df.to_csv('toronto_data.csv')"
   ]
  },
  {
   "cell_type": "code",
   "execution_count": 93,
   "metadata": {},
   "outputs": [
    {
     "output_type": "execute_result",
     "data": {
      "text/plain": "(103, 3)"
     },
     "metadata": {},
     "execution_count": 93
    }
   ],
   "source": [
    "# Print te shape of the dataframe \n",
    "\n",
    "codes_df.shape"
   ]
  },
  {
   "cell_type": "code",
   "execution_count": null,
   "metadata": {},
   "outputs": [],
   "source": []
  }
 ],
 "metadata": {
  "language_info": {
   "codemirror_mode": {
    "name": "ipython",
    "version": 3
   },
   "file_extension": ".py",
   "mimetype": "text/x-python",
   "name": "python",
   "nbconvert_exporter": "python",
   "pygments_lexer": "ipython3",
   "version": "3.8.2-final"
  },
  "orig_nbformat": 2,
  "kernelspec": {
   "name": "python38264bita7224e095fd2487f8cc68b5f4fe87259",
   "display_name": "Python 3.8.2 64-bit"
  }
 },
 "nbformat": 4,
 "nbformat_minor": 2
}