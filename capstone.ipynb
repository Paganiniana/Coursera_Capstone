{
 "cells": [
  {
   "cell_type": "markdown",
   "metadata": {},
   "source": [
    "# Coursera Data Science Capstone \n",
    "\n",
    "This project will be used to house my submission for Coursera's Data Science Capstone project.\n",
    "\n",
    "### Purpose \n",
    "\n",
    "This will, hopefully, provide an opportunity to demonstrate and cement the conceptual understandings that I've acquired over the course of this certification program.  See README.md for more details.\n"
   ]
  },
  {
   "cell_type": "code",
   "execution_count": 6,
   "metadata": {},
   "outputs": [],
   "source": [
    "# Imports\n",
    "\n",
    "import pandas as pd \n",
    "import numpy as np \n",
    "import foursquare\n",
    "import json"
   ]
  },
  {
   "cell_type": "code",
   "execution_count": 4,
   "metadata": {},
   "outputs": [
    {
     "output_type": "stream",
     "name": "stdout",
     "text": "Hello Capstone Project Course!\n"
    }
   ],
   "source": [
    "# Print statement\n",
    "\n",
    "print(\"Hello Capstone Project Course!\")"
   ]
  },
  {
   "cell_type": "markdown",
   "metadata": {},
   "source": [
    "## Prepare the Foursquare API\n",
    "\n",
    "You will need to create a file called \"credentials.json\" file in this directory, matching the following schema.\n",
    "\n",
    "```javascript\n",
    "{\n",
    "    \"client_id\" : \"*****your client id*****\",\n",
    "    \"client_secret\" : \"******your client secret*****\", \n",
    "}\n",
    "```"
   ]
  },
  {
   "cell_type": "code",
   "execution_count": 21,
   "metadata": {},
   "outputs": [],
   "source": [
    "# get id and secret key from file\n",
    "with open('credentials.json') as f:\n",
    "    f = f.read()\n",
    "    js = json.loads(f)\n",
    "\n",
    "    client_id = js['client_id']\n",
    "    client_secret = js['client_secret']\n",
    "\n",
    "# Initialize API\n",
    "fs_client = foursquare.Foursquare(client_id=client_id, client_secret=client_secret)\n"
   ]
  },
  {
   "cell_type": "code",
   "execution_count": null,
   "metadata": {},
   "outputs": [],
   "source": [
    "# Try a venues search "
   ]
  }
 ],
 "metadata": {
  "language_info": {
   "codemirror_mode": {
    "name": "ipython",
    "version": 3
   },
   "file_extension": ".py",
   "mimetype": "text/x-python",
   "name": "python",
   "nbconvert_exporter": "python",
   "pygments_lexer": "ipython3",
   "version": "3.8.2-final"
  },
  "orig_nbformat": 2,
  "kernelspec": {
   "name": "python38264bita7224e095fd2487f8cc68b5f4fe87259",
   "display_name": "Python 3.8.2 64-bit"
  }
 },
 "nbformat": 4,
 "nbformat_minor": 2
}