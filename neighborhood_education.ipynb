{
 "cells": [
  {
   "cell_type": "markdown",
   "metadata": {},
   "source": [
    "# 1. Project Understanding\n",
    "\n",
    "The problem is this: instructors and decision-makers in the education field have a difficult time deciding where and how to invest limited resources.  The goal of these individuals is to help students to be successful. Therefore, the ability to guage which neighborhoods' students are more or less successful than any other and *why* is very valuable.  This analysis seeks to provide decision makers with a way to answer these questions: \n",
    "* Is any given student a product of their environemnt?  Put more succinclty: is there a relationship between a student's environment (on a neighborhood level) and their academic success? \n",
    "* If such a relationship exists, is it possible to say whether or not a body of students is likely to succeed, based on one perameter or another?\n",
    "\n",
    "Given the scope of this project and the amount of data being compared, we will limit our examination to a single city: New York City.  The variety of neighborhoods and success rates among students (as well as the high volume of quality data) makes this a choice of convenience, though we are hoping, not a fatal one. If a reliable relationship between a student's environment and their success could be discovered, then decision makers would be better able to change that environment to make their students more successful, and teachers would be able to better instruct their students, knowing what factors they are working against."
   ]
  },
  {
   "cell_type": "markdown",
   "metadata": {},
   "source": [
    "# 2. Analytic Approach\n",
    "\n",
    "First, we must find a way of quantifying \"success\" in an academic setting. Thankfully, metrics such as GPA and SAT scores have long been used for such a purpose, and are readily available.\n",
    "\n",
    "Secondly, we must find a way of identifying those \"feautures\" that makes any given neighborhood different from or similar to another one.  The sky is the limit, in this regard.  However, for the purposes of this analysis, we will focus on the following:\n",
    "\n",
    "* Average per-capita income\n",
    "* Number of occurences of crime (separated by type) in a given neighborhood\n",
    "* Number of neighborhood features in the form of venues (separated by type)\n",
    "\n",
    "Given that each of these values is a countable feature and the feature we are tryign to predict (success in the form of a test score) is also a continuous quantity, we should be able to model the problem using various forms of regression.  For the Data Exploration phase, we will use various forms of linear regression to identify relationships.  For the model-building phase, we will use a polynomial regression to try to predict student success. "
   ]
  },
  {
   "cell_type": "markdown",
   "metadata": {},
   "source": [
    "# 3. Data Requirements\n",
    "\n",
    "Any geocoded data, such as the following, should be organized either by zip code or neighborhood name.  Furthermore, dated information, such as SAT scores, crimes, and average income, should be from around around the same time period.  After all, we are supposing that the students producing these scores were subject to the environment we are measuring."
   ]
  },
  {
   "cell_type": "markdown",
   "metadata": {},
   "source": [
    "# 4. Data Collection\n",
    "\n",
    "### Neighborhood Venue data\n",
    "\n",
    "*(Constructed during previous Coursera exercises)* Contains Foursquare Data for all of New York City's neighborhoods.  This data will be crucial to try to get an overall impression regarding \"what kind of neighborhood\" each neighborhood is.   It features a column for each type of venue recorded, along with the number of each such venue located within the neighborhood.  \n",
    "\n",
    "### Income Data\n",
    "\n",
    "[Income data on Kaggle](https://www.kaggle.com/wpncrh/zip-code-income-tax-data-2014)  This data set will give us what we need to compare neighborhoods based on average income.  It features an \"average income\" field, as well as a ZIP code, for each instance.\n",
    "\n",
    "### Average SAT data for NY schools\n",
    "\n",
    "[NY SAT data on Kaggle](https://www.kaggle.com/nycopendata/high-schools)  This data set gives us average SAT scores for each school in New York. The ZIP code for each school is given, which will allow us to match up the data, geographically, with our venue/income/crime counterparts.\n",
    "\n",
    "### New York City Crime Data \n",
    "\n",
    "[Crime Data on Kaggle](https://www.kaggle.com/adamschroeder/crimes-new-york-city)   This data set includes a column for \"type\" of crime commited, as well as the lattitude and longitude of the incident. This data will allow us to find the ZIP code in which each incident occured, and, from this, match it to the neighborhoods being analyzed."
   ]
  },
  {
   "cell_type": "code",
   "execution_count": 68,
   "metadata": {},
   "outputs": [],
   "source": [
    "# import basic libraries\n",
    "\n",
    "import pandas as pd \n",
    "import numpy as np"
   ]
  },
  {
   "cell_type": "code",
   "execution_count": 1,
   "metadata": {},
   "outputs": [],
   "source": [
    "# import data from CSV files\n",
    "\n",
    "ny_crimes_df = pd.read_csv('data/NYPD_Complaint_Data_Historic.csv')\n",
    "ny_crimes_df_desc = pd.read_csv('data/Crime_Column_Description.csv')\n"
   ]
  },
  {
   "cell_type": "code",
   "execution_count": 2,
   "metadata": {},
   "outputs": [
    {
     "output_type": "stream",
     "name": "stdout",
     "text": "0     Randomly generated persistent ID for each comp...\n1     Exact date of occurrence for the reported even...\n2     Exact time of occurrence for the reported even...\n3     Ending date of occurrence for the reported eve...\n4     Ending time of occurrence for the reported eve...\n5                    Date event was reported to police \n6               Three digit offense classification code\n7     Description of offense corresponding with key ...\n8     Three digit internal classification code (more...\n9     Description of internal classification corresp...\n10    Indicator of whether crime was successfully co...\n11    Level of offense: felony, misdemeanor, violation \n12    Jurisdiction responsible for incident. Either ...\n13    The name of the borough in which the incident ...\n14          The precinct in which the incident occurred\n15    Specific location of occurrence in or around t...\n16    Specific description of premises; grocery stor...\n17    Name of NYC park, playground or greenspace of ...\n18    Name of NYCHA housing development of occurrenc...\n19    X-coordinate for New York State Plane Coordina...\n20    Y-coordinate for New York State Plane Coordina...\n21    Latitude coordinate for Global Coordinate Syst...\n22    Longitude coordinate for Global Coordinate Sys...\nName: Description, dtype: object\n"
    },
    {
     "output_type": "execute_result",
     "data": {
      "text/plain": "   CMPLNT_NUM CMPLNT_FR_DT CMPLNT_FR_TM CMPLNT_TO_DT CMPLNT_TO_TM      RPT_DT  \\\n0   101109527   12/31/2015     23:45:00          NaN          NaN  12/31/2015   \n1   153401121   12/31/2015     23:36:00          NaN          NaN  12/31/2015   \n2   569369778   12/31/2015     23:30:00          NaN          NaN  12/31/2015   \n3   968417082   12/31/2015     23:30:00          NaN          NaN  12/31/2015   \n4   641637920   12/31/2015     23:25:00   12/31/2015     23:30:00  12/31/2015   \n\n   KY_CD                        OFNS_DESC  PD_CD  \\\n0    113                          FORGERY  729.0   \n1    101  MURDER & NON-NEGL. MANSLAUGHTER    NaN   \n2    117                  DANGEROUS DRUGS  503.0   \n3    344     ASSAULT 3 & RELATED OFFENSES  101.0   \n4    344     ASSAULT 3 & RELATED OFFENSES  101.0   \n\n                          PD_DESC  ... ADDR_PCT_CD LOC_OF_OCCUR_DESC  \\\n0  FORGERY,ETC.,UNCLASSIFIED-FELO  ...        44.0            INSIDE   \n1                             NaN  ...       103.0           OUTSIDE   \n2  CONTROLLED SUBSTANCE,INTENT TO  ...        28.0               NaN   \n3                       ASSAULT 3  ...       105.0            INSIDE   \n4                       ASSAULT 3  ...        13.0          FRONT OF   \n\n     PREM_TYP_DESC PARKS_NM  HADEVELOPT X_COORD_CD Y_COORD_CD   Latitude  \\\n0   BAR/NIGHT CLUB      NaN         NaN  1007314.0   241257.0  40.828848   \n1              NaN      NaN         NaN  1043991.0   193406.0  40.697338   \n2            OTHER      NaN         NaN   999463.0   231690.0  40.802607   \n3  RESIDENCE-HOUSE      NaN         NaN  1060183.0   177862.0  40.654549   \n4            OTHER      NaN         NaN   987606.0   208148.0  40.738002   \n\n   Longitude                        Lat_Lon  \n0 -73.916661  (40.828848333, -73.916661142)  \n1 -73.784557  (40.697338138, -73.784556739)  \n2 -73.945052  (40.802606608, -73.945051911)  \n3 -73.726339  (40.654549444, -73.726338791)  \n4 -73.987891     (40.7380024, -73.98789129)  \n\n[5 rows x 24 columns]",
      "text/html": "<div>\n<style scoped>\n    .dataframe tbody tr th:only-of-type {\n        vertical-align: middle;\n    }\n\n    .dataframe tbody tr th {\n        vertical-align: top;\n    }\n\n    .dataframe thead th {\n        text-align: right;\n    }\n</style>\n<table border=\"1\" class=\"dataframe\">\n  <thead>\n    <tr style=\"text-align: right;\">\n      <th></th>\n      <th>CMPLNT_NUM</th>\n      <th>CMPLNT_FR_DT</th>\n      <th>CMPLNT_FR_TM</th>\n      <th>CMPLNT_TO_DT</th>\n      <th>CMPLNT_TO_TM</th>\n      <th>RPT_DT</th>\n      <th>KY_CD</th>\n      <th>OFNS_DESC</th>\n      <th>PD_CD</th>\n      <th>PD_DESC</th>\n      <th>...</th>\n      <th>ADDR_PCT_CD</th>\n      <th>LOC_OF_OCCUR_DESC</th>\n      <th>PREM_TYP_DESC</th>\n      <th>PARKS_NM</th>\n      <th>HADEVELOPT</th>\n      <th>X_COORD_CD</th>\n      <th>Y_COORD_CD</th>\n      <th>Latitude</th>\n      <th>Longitude</th>\n      <th>Lat_Lon</th>\n    </tr>\n  </thead>\n  <tbody>\n    <tr>\n      <th>0</th>\n      <td>101109527</td>\n      <td>12/31/2015</td>\n      <td>23:45:00</td>\n      <td>NaN</td>\n      <td>NaN</td>\n      <td>12/31/2015</td>\n      <td>113</td>\n      <td>FORGERY</td>\n      <td>729.0</td>\n      <td>FORGERY,ETC.,UNCLASSIFIED-FELO</td>\n      <td>...</td>\n      <td>44.0</td>\n      <td>INSIDE</td>\n      <td>BAR/NIGHT CLUB</td>\n      <td>NaN</td>\n      <td>NaN</td>\n      <td>1007314.0</td>\n      <td>241257.0</td>\n      <td>40.828848</td>\n      <td>-73.916661</td>\n      <td>(40.828848333, -73.916661142)</td>\n    </tr>\n    <tr>\n      <th>1</th>\n      <td>153401121</td>\n      <td>12/31/2015</td>\n      <td>23:36:00</td>\n      <td>NaN</td>\n      <td>NaN</td>\n      <td>12/31/2015</td>\n      <td>101</td>\n      <td>MURDER &amp; NON-NEGL. MANSLAUGHTER</td>\n      <td>NaN</td>\n      <td>NaN</td>\n      <td>...</td>\n      <td>103.0</td>\n      <td>OUTSIDE</td>\n      <td>NaN</td>\n      <td>NaN</td>\n      <td>NaN</td>\n      <td>1043991.0</td>\n      <td>193406.0</td>\n      <td>40.697338</td>\n      <td>-73.784557</td>\n      <td>(40.697338138, -73.784556739)</td>\n    </tr>\n    <tr>\n      <th>2</th>\n      <td>569369778</td>\n      <td>12/31/2015</td>\n      <td>23:30:00</td>\n      <td>NaN</td>\n      <td>NaN</td>\n      <td>12/31/2015</td>\n      <td>117</td>\n      <td>DANGEROUS DRUGS</td>\n      <td>503.0</td>\n      <td>CONTROLLED SUBSTANCE,INTENT TO</td>\n      <td>...</td>\n      <td>28.0</td>\n      <td>NaN</td>\n      <td>OTHER</td>\n      <td>NaN</td>\n      <td>NaN</td>\n      <td>999463.0</td>\n      <td>231690.0</td>\n      <td>40.802607</td>\n      <td>-73.945052</td>\n      <td>(40.802606608, -73.945051911)</td>\n    </tr>\n    <tr>\n      <th>3</th>\n      <td>968417082</td>\n      <td>12/31/2015</td>\n      <td>23:30:00</td>\n      <td>NaN</td>\n      <td>NaN</td>\n      <td>12/31/2015</td>\n      <td>344</td>\n      <td>ASSAULT 3 &amp; RELATED OFFENSES</td>\n      <td>101.0</td>\n      <td>ASSAULT 3</td>\n      <td>...</td>\n      <td>105.0</td>\n      <td>INSIDE</td>\n      <td>RESIDENCE-HOUSE</td>\n      <td>NaN</td>\n      <td>NaN</td>\n      <td>1060183.0</td>\n      <td>177862.0</td>\n      <td>40.654549</td>\n      <td>-73.726339</td>\n      <td>(40.654549444, -73.726338791)</td>\n    </tr>\n    <tr>\n      <th>4</th>\n      <td>641637920</td>\n      <td>12/31/2015</td>\n      <td>23:25:00</td>\n      <td>12/31/2015</td>\n      <td>23:30:00</td>\n      <td>12/31/2015</td>\n      <td>344</td>\n      <td>ASSAULT 3 &amp; RELATED OFFENSES</td>\n      <td>101.0</td>\n      <td>ASSAULT 3</td>\n      <td>...</td>\n      <td>13.0</td>\n      <td>FRONT OF</td>\n      <td>OTHER</td>\n      <td>NaN</td>\n      <td>NaN</td>\n      <td>987606.0</td>\n      <td>208148.0</td>\n      <td>40.738002</td>\n      <td>-73.987891</td>\n      <td>(40.7380024, -73.98789129)</td>\n    </tr>\n  </tbody>\n</table>\n<p>5 rows × 24 columns</p>\n</div>"
     },
     "metadata": {},
     "execution_count": 2
    }
   ],
   "source": [
    "# Crime Data\n",
    "print(ny_crimes_df_desc['Description'])\n",
    "ny_crimes_df.head()"
   ]
  },
  {
   "cell_type": "code",
   "execution_count": 3,
   "metadata": {},
   "outputs": [],
   "source": [
    "# Income Data\n",
    "income_df = pd.read_csv('data/14zpallagi.csv')"
   ]
  },
  {
   "cell_type": "code",
   "execution_count": 4,
   "metadata": {},
   "outputs": [
    {
     "output_type": "execute_result",
     "data": {
      "text/plain": "   STATEFIPS STATE  zipcode  agi_stub        N1     mars1     MARS2     MARS4  \\\n0          1    AL        0         1  850050.0  481840.0  115070.0  240450.0   \n1          1    AL        0         2  491370.0  200750.0  150290.0  125560.0   \n2          1    AL        0         3  259540.0   75820.0  142970.0   34070.0   \n3          1    AL        0         4  164840.0   26730.0  125410.0   10390.0   \n4          1    AL        0         5  203650.0   18990.0  177070.0    5860.0   \n\n       PREP         N2  ...    N10300     A10300  N85530  A85530  N85300  \\\n0  479900.0  1401930.0  ...  389850.0   324575.0     0.0     0.0     0.0   \n1  281350.0  1016010.0  ...  397110.0   950446.0     0.0     0.0     0.0   \n2  156720.0   589190.0  ...  250230.0  1319641.0     0.0     0.0     0.0   \n3   99750.0   423300.0  ...  163580.0  1394913.0     0.0     0.0     0.0   \n4  122670.0   565930.0  ...  203050.0  3655700.0   610.0   135.0   270.0   \n\n   A85300   N11901    A11901    N11902     A11902  \n0     0.0  62690.0   47433.0  744910.0  1964826.0  \n1     0.0  70780.0  101969.0  413790.0  1177400.0  \n2     0.0  62170.0  132373.0  192050.0   538160.0  \n3     0.0  45120.0  124048.0  115470.0   375882.0  \n4    66.0  81180.0  387298.0  114380.0   448442.0  \n\n[5 rows x 127 columns]",
      "text/html": "<div>\n<style scoped>\n    .dataframe tbody tr th:only-of-type {\n        vertical-align: middle;\n    }\n\n    .dataframe tbody tr th {\n        vertical-align: top;\n    }\n\n    .dataframe thead th {\n        text-align: right;\n    }\n</style>\n<table border=\"1\" class=\"dataframe\">\n  <thead>\n    <tr style=\"text-align: right;\">\n      <th></th>\n      <th>STATEFIPS</th>\n      <th>STATE</th>\n      <th>zipcode</th>\n      <th>agi_stub</th>\n      <th>N1</th>\n      <th>mars1</th>\n      <th>MARS2</th>\n      <th>MARS4</th>\n      <th>PREP</th>\n      <th>N2</th>\n      <th>...</th>\n      <th>N10300</th>\n      <th>A10300</th>\n      <th>N85530</th>\n      <th>A85530</th>\n      <th>N85300</th>\n      <th>A85300</th>\n      <th>N11901</th>\n      <th>A11901</th>\n      <th>N11902</th>\n      <th>A11902</th>\n    </tr>\n  </thead>\n  <tbody>\n    <tr>\n      <th>0</th>\n      <td>1</td>\n      <td>AL</td>\n      <td>0</td>\n      <td>1</td>\n      <td>850050.0</td>\n      <td>481840.0</td>\n      <td>115070.0</td>\n      <td>240450.0</td>\n      <td>479900.0</td>\n      <td>1401930.0</td>\n      <td>...</td>\n      <td>389850.0</td>\n      <td>324575.0</td>\n      <td>0.0</td>\n      <td>0.0</td>\n      <td>0.0</td>\n      <td>0.0</td>\n      <td>62690.0</td>\n      <td>47433.0</td>\n      <td>744910.0</td>\n      <td>1964826.0</td>\n    </tr>\n    <tr>\n      <th>1</th>\n      <td>1</td>\n      <td>AL</td>\n      <td>0</td>\n      <td>2</td>\n      <td>491370.0</td>\n      <td>200750.0</td>\n      <td>150290.0</td>\n      <td>125560.0</td>\n      <td>281350.0</td>\n      <td>1016010.0</td>\n      <td>...</td>\n      <td>397110.0</td>\n      <td>950446.0</td>\n      <td>0.0</td>\n      <td>0.0</td>\n      <td>0.0</td>\n      <td>0.0</td>\n      <td>70780.0</td>\n      <td>101969.0</td>\n      <td>413790.0</td>\n      <td>1177400.0</td>\n    </tr>\n    <tr>\n      <th>2</th>\n      <td>1</td>\n      <td>AL</td>\n      <td>0</td>\n      <td>3</td>\n      <td>259540.0</td>\n      <td>75820.0</td>\n      <td>142970.0</td>\n      <td>34070.0</td>\n      <td>156720.0</td>\n      <td>589190.0</td>\n      <td>...</td>\n      <td>250230.0</td>\n      <td>1319641.0</td>\n      <td>0.0</td>\n      <td>0.0</td>\n      <td>0.0</td>\n      <td>0.0</td>\n      <td>62170.0</td>\n      <td>132373.0</td>\n      <td>192050.0</td>\n      <td>538160.0</td>\n    </tr>\n    <tr>\n      <th>3</th>\n      <td>1</td>\n      <td>AL</td>\n      <td>0</td>\n      <td>4</td>\n      <td>164840.0</td>\n      <td>26730.0</td>\n      <td>125410.0</td>\n      <td>10390.0</td>\n      <td>99750.0</td>\n      <td>423300.0</td>\n      <td>...</td>\n      <td>163580.0</td>\n      <td>1394913.0</td>\n      <td>0.0</td>\n      <td>0.0</td>\n      <td>0.0</td>\n      <td>0.0</td>\n      <td>45120.0</td>\n      <td>124048.0</td>\n      <td>115470.0</td>\n      <td>375882.0</td>\n    </tr>\n    <tr>\n      <th>4</th>\n      <td>1</td>\n      <td>AL</td>\n      <td>0</td>\n      <td>5</td>\n      <td>203650.0</td>\n      <td>18990.0</td>\n      <td>177070.0</td>\n      <td>5860.0</td>\n      <td>122670.0</td>\n      <td>565930.0</td>\n      <td>...</td>\n      <td>203050.0</td>\n      <td>3655700.0</td>\n      <td>610.0</td>\n      <td>135.0</td>\n      <td>270.0</td>\n      <td>66.0</td>\n      <td>81180.0</td>\n      <td>387298.0</td>\n      <td>114380.0</td>\n      <td>448442.0</td>\n    </tr>\n  </tbody>\n</table>\n<p>5 rows × 127 columns</p>\n</div>"
     },
     "metadata": {},
     "execution_count": 4
    }
   ],
   "source": [
    "income_df.head()"
   ]
  },
  {
   "cell_type": "code",
   "execution_count": 5,
   "metadata": {},
   "outputs": [],
   "source": [
    "# SAT Data\n",
    "sat_df = pd.read_csv('data/scores.csv')"
   ]
  },
  {
   "cell_type": "code",
   "execution_count": 6,
   "metadata": {},
   "outputs": [
    {
     "output_type": "execute_result",
     "data": {
      "text/plain": "  School ID                                        School Name    Borough  \\\n0    02M260                 Clinton School Writers and Artists  Manhattan   \n1    06M211  Inwood Early College for Health and Informatio...  Manhattan   \n2    01M539  New Explorations into Science, Technology and ...  Manhattan   \n3    02M294                               Essex Street Academy  Manhattan   \n4    02M308                       Lower Manhattan Arts Academy  Manhattan   \n\n  Building Code        Street Address       City State  Zip Code  Latitude  \\\n0          M933  425 West 33rd Street  Manhattan    NY     10001  40.75321   \n1          M052    650 Academy Street  Manhattan    NY     10002  40.86605   \n2          M022   111 Columbia Street  Manhattan    NY     10002  40.71873   \n3          M445      350 Grand Street  Manhattan    NY     10002  40.71687   \n4          M445      350 Grand Street  Manhattan    NY     10002  40.71687   \n\n   Longitude  ... End Time Student Enrollment Percent White  Percent Black  \\\n0  -73.99786  ...      NaN                NaN           NaN            NaN   \n1  -73.92486  ...  3:00 PM               87.0          3.4%          21.8%   \n2  -73.97943  ...  4:00 PM             1735.0         28.6%          13.3%   \n3  -73.98953  ...  2:45 PM              358.0         11.7%          38.5%   \n4  -73.98953  ...  3:00 PM              383.0          3.1%          28.2%   \n\n  Percent Hispanic Percent Asian Average Score (SAT Math)  \\\n0              NaN           NaN                      NaN   \n1            67.8%          4.6%                      NaN   \n2            18.0%         38.5%                    657.0   \n3            41.3%          5.9%                    395.0   \n4            56.9%          8.6%                    418.0   \n\n  Average Score (SAT Reading)  Average Score (SAT Writing)  Percent Tested  \n0                         NaN                          NaN             NaN  \n1                         NaN                          NaN             NaN  \n2                       601.0                        601.0           91.0%  \n3                       411.0                        387.0           78.9%  \n4                       428.0                        415.0           65.1%  \n\n[5 rows x 22 columns]",
      "text/html": "<div>\n<style scoped>\n    .dataframe tbody tr th:only-of-type {\n        vertical-align: middle;\n    }\n\n    .dataframe tbody tr th {\n        vertical-align: top;\n    }\n\n    .dataframe thead th {\n        text-align: right;\n    }\n</style>\n<table border=\"1\" class=\"dataframe\">\n  <thead>\n    <tr style=\"text-align: right;\">\n      <th></th>\n      <th>School ID</th>\n      <th>School Name</th>\n      <th>Borough</th>\n      <th>Building Code</th>\n      <th>Street Address</th>\n      <th>City</th>\n      <th>State</th>\n      <th>Zip Code</th>\n      <th>Latitude</th>\n      <th>Longitude</th>\n      <th>...</th>\n      <th>End Time</th>\n      <th>Student Enrollment</th>\n      <th>Percent White</th>\n      <th>Percent Black</th>\n      <th>Percent Hispanic</th>\n      <th>Percent Asian</th>\n      <th>Average Score (SAT Math)</th>\n      <th>Average Score (SAT Reading)</th>\n      <th>Average Score (SAT Writing)</th>\n      <th>Percent Tested</th>\n    </tr>\n  </thead>\n  <tbody>\n    <tr>\n      <th>0</th>\n      <td>02M260</td>\n      <td>Clinton School Writers and Artists</td>\n      <td>Manhattan</td>\n      <td>M933</td>\n      <td>425 West 33rd Street</td>\n      <td>Manhattan</td>\n      <td>NY</td>\n      <td>10001</td>\n      <td>40.75321</td>\n      <td>-73.99786</td>\n      <td>...</td>\n      <td>NaN</td>\n      <td>NaN</td>\n      <td>NaN</td>\n      <td>NaN</td>\n      <td>NaN</td>\n      <td>NaN</td>\n      <td>NaN</td>\n      <td>NaN</td>\n      <td>NaN</td>\n      <td>NaN</td>\n    </tr>\n    <tr>\n      <th>1</th>\n      <td>06M211</td>\n      <td>Inwood Early College for Health and Informatio...</td>\n      <td>Manhattan</td>\n      <td>M052</td>\n      <td>650 Academy Street</td>\n      <td>Manhattan</td>\n      <td>NY</td>\n      <td>10002</td>\n      <td>40.86605</td>\n      <td>-73.92486</td>\n      <td>...</td>\n      <td>3:00 PM</td>\n      <td>87.0</td>\n      <td>3.4%</td>\n      <td>21.8%</td>\n      <td>67.8%</td>\n      <td>4.6%</td>\n      <td>NaN</td>\n      <td>NaN</td>\n      <td>NaN</td>\n      <td>NaN</td>\n    </tr>\n    <tr>\n      <th>2</th>\n      <td>01M539</td>\n      <td>New Explorations into Science, Technology and ...</td>\n      <td>Manhattan</td>\n      <td>M022</td>\n      <td>111 Columbia Street</td>\n      <td>Manhattan</td>\n      <td>NY</td>\n      <td>10002</td>\n      <td>40.71873</td>\n      <td>-73.97943</td>\n      <td>...</td>\n      <td>4:00 PM</td>\n      <td>1735.0</td>\n      <td>28.6%</td>\n      <td>13.3%</td>\n      <td>18.0%</td>\n      <td>38.5%</td>\n      <td>657.0</td>\n      <td>601.0</td>\n      <td>601.0</td>\n      <td>91.0%</td>\n    </tr>\n    <tr>\n      <th>3</th>\n      <td>02M294</td>\n      <td>Essex Street Academy</td>\n      <td>Manhattan</td>\n      <td>M445</td>\n      <td>350 Grand Street</td>\n      <td>Manhattan</td>\n      <td>NY</td>\n      <td>10002</td>\n      <td>40.71687</td>\n      <td>-73.98953</td>\n      <td>...</td>\n      <td>2:45 PM</td>\n      <td>358.0</td>\n      <td>11.7%</td>\n      <td>38.5%</td>\n      <td>41.3%</td>\n      <td>5.9%</td>\n      <td>395.0</td>\n      <td>411.0</td>\n      <td>387.0</td>\n      <td>78.9%</td>\n    </tr>\n    <tr>\n      <th>4</th>\n      <td>02M308</td>\n      <td>Lower Manhattan Arts Academy</td>\n      <td>Manhattan</td>\n      <td>M445</td>\n      <td>350 Grand Street</td>\n      <td>Manhattan</td>\n      <td>NY</td>\n      <td>10002</td>\n      <td>40.71687</td>\n      <td>-73.98953</td>\n      <td>...</td>\n      <td>3:00 PM</td>\n      <td>383.0</td>\n      <td>3.1%</td>\n      <td>28.2%</td>\n      <td>56.9%</td>\n      <td>8.6%</td>\n      <td>418.0</td>\n      <td>428.0</td>\n      <td>415.0</td>\n      <td>65.1%</td>\n    </tr>\n  </tbody>\n</table>\n<p>5 rows × 22 columns</p>\n</div>"
     },
     "metadata": {},
     "execution_count": 6
    }
   ],
   "source": [
    "sat_df.head()"
   ]
  },
  {
   "cell_type": "code",
   "execution_count": 9,
   "metadata": {},
   "outputs": [],
   "source": [
    "# Neighborhood Data\n",
    "venues_df = pd.read_csv('data/100_venues_for_all_ny_hoods.csv')\n",
    "neighborhood_df = pd.read_csv('data/ny_neighborhood_venu_cat_count.csv')"
   ]
  },
  {
   "cell_type": "code",
   "execution_count": 10,
   "metadata": {},
   "outputs": [
    {
     "output_type": "execute_result",
     "data": {
      "text/plain": "   Unnamed: 0   Neighborhood  Yoga Studio  Accessories Store  Adult Boutique  \\\n0           0       Allerton            0                  0               0   \n1           1       Annadale            0                  0               0   \n2           2  Arden Heights            0                  0               0   \n3           3      Arlington            0                  0               0   \n4           4       Arrochar            0                  0               0   \n\n   Afghan Restaurant  African Restaurant  American Restaurant  Animal Shelter  \\\n0                  0                   0                    1               0   \n1                  0                   0                    2               0   \n2                  0                   0                    0               0   \n3                  0                   0                    1               0   \n4                  0                   0                    0               0   \n\n   Antique Shop  ...  Volleyball Court  Warehouse Store  Waste Facility  \\\n0             0  ...                 0                0               0   \n1             0  ...                 0                0               0   \n2             0  ...                 0                0               0   \n3             0  ...                 0                0               0   \n4             0  ...                 0                0               0   \n\n   Waterfront  Weight Loss Center  Whisky Bar  Wine Bar  Wine Shop  \\\n0           0                   0           0         0          0   \n1           0                   0           0         0          0   \n2           0                   0           0         0          0   \n3           0                   0           0         0          0   \n4           0                   0           0         0          0   \n\n   Wings Joint  Women's Store  \n0            0              0  \n1            0              0  \n2            0              0  \n3            0              0  \n4            0              0  \n\n[5 rows x 428 columns]",
      "text/html": "<div>\n<style scoped>\n    .dataframe tbody tr th:only-of-type {\n        vertical-align: middle;\n    }\n\n    .dataframe tbody tr th {\n        vertical-align: top;\n    }\n\n    .dataframe thead th {\n        text-align: right;\n    }\n</style>\n<table border=\"1\" class=\"dataframe\">\n  <thead>\n    <tr style=\"text-align: right;\">\n      <th></th>\n      <th>Unnamed: 0</th>\n      <th>Neighborhood</th>\n      <th>Yoga Studio</th>\n      <th>Accessories Store</th>\n      <th>Adult Boutique</th>\n      <th>Afghan Restaurant</th>\n      <th>African Restaurant</th>\n      <th>American Restaurant</th>\n      <th>Animal Shelter</th>\n      <th>Antique Shop</th>\n      <th>...</th>\n      <th>Volleyball Court</th>\n      <th>Warehouse Store</th>\n      <th>Waste Facility</th>\n      <th>Waterfront</th>\n      <th>Weight Loss Center</th>\n      <th>Whisky Bar</th>\n      <th>Wine Bar</th>\n      <th>Wine Shop</th>\n      <th>Wings Joint</th>\n      <th>Women's Store</th>\n    </tr>\n  </thead>\n  <tbody>\n    <tr>\n      <th>0</th>\n      <td>0</td>\n      <td>Allerton</td>\n      <td>0</td>\n      <td>0</td>\n      <td>0</td>\n      <td>0</td>\n      <td>0</td>\n      <td>1</td>\n      <td>0</td>\n      <td>0</td>\n      <td>...</td>\n      <td>0</td>\n      <td>0</td>\n      <td>0</td>\n      <td>0</td>\n      <td>0</td>\n      <td>0</td>\n      <td>0</td>\n      <td>0</td>\n      <td>0</td>\n      <td>0</td>\n    </tr>\n    <tr>\n      <th>1</th>\n      <td>1</td>\n      <td>Annadale</td>\n      <td>0</td>\n      <td>0</td>\n      <td>0</td>\n      <td>0</td>\n      <td>0</td>\n      <td>2</td>\n      <td>0</td>\n      <td>0</td>\n      <td>...</td>\n      <td>0</td>\n      <td>0</td>\n      <td>0</td>\n      <td>0</td>\n      <td>0</td>\n      <td>0</td>\n      <td>0</td>\n      <td>0</td>\n      <td>0</td>\n      <td>0</td>\n    </tr>\n    <tr>\n      <th>2</th>\n      <td>2</td>\n      <td>Arden Heights</td>\n      <td>0</td>\n      <td>0</td>\n      <td>0</td>\n      <td>0</td>\n      <td>0</td>\n      <td>0</td>\n      <td>0</td>\n      <td>0</td>\n      <td>...</td>\n      <td>0</td>\n      <td>0</td>\n      <td>0</td>\n      <td>0</td>\n      <td>0</td>\n      <td>0</td>\n      <td>0</td>\n      <td>0</td>\n      <td>0</td>\n      <td>0</td>\n    </tr>\n    <tr>\n      <th>3</th>\n      <td>3</td>\n      <td>Arlington</td>\n      <td>0</td>\n      <td>0</td>\n      <td>0</td>\n      <td>0</td>\n      <td>0</td>\n      <td>1</td>\n      <td>0</td>\n      <td>0</td>\n      <td>...</td>\n      <td>0</td>\n      <td>0</td>\n      <td>0</td>\n      <td>0</td>\n      <td>0</td>\n      <td>0</td>\n      <td>0</td>\n      <td>0</td>\n      <td>0</td>\n      <td>0</td>\n    </tr>\n    <tr>\n      <th>4</th>\n      <td>4</td>\n      <td>Arrochar</td>\n      <td>0</td>\n      <td>0</td>\n      <td>0</td>\n      <td>0</td>\n      <td>0</td>\n      <td>0</td>\n      <td>0</td>\n      <td>0</td>\n      <td>...</td>\n      <td>0</td>\n      <td>0</td>\n      <td>0</td>\n      <td>0</td>\n      <td>0</td>\n      <td>0</td>\n      <td>0</td>\n      <td>0</td>\n      <td>0</td>\n      <td>0</td>\n    </tr>\n  </tbody>\n</table>\n<p>5 rows × 428 columns</p>\n</div>"
     },
     "metadata": {},
     "execution_count": 10
    }
   ],
   "source": [
    "neighborhood_df.head()"
   ]
  },
  {
   "cell_type": "markdown",
   "metadata": {},
   "source": [
    "# 5. Data understanding"
   ]
  },
  {
   "cell_type": "markdown",
   "metadata": {},
   "source": [
    "# 6. Data Preparation"
   ]
  },
  {
   "cell_type": "code",
   "execution_count": 54,
   "metadata": {
    "tags": [
     "outputPrepend"
    ]
   },
   "outputs": [],
   "source": [
    "# Wrangle venues_df to extract Lat/Lng data and assign to neighborhood_df\n",
    "temp = venues_df[['Neighborhood', 'Neighborhood Latitude', 'Neighborhood Longitude']].drop_duplicates().reset_index(drop=True)\n",
    "\n",
    "# Get lat-lng values in order of neighborhood_df\n",
    "\n",
    "lat = []\n",
    "lng = []\n",
    "for n in neighborhood_df['Neighborhood']:\n",
    "    r = temp[temp['Neighborhood'] == n]\n",
    "    lat.append(r['Neighborhood Latitude'].iloc[0])\n",
    "    lng.append(r['Neighborhood Longitude'].iloc[0])\n",
    "\n",
    "# Assign new columns to neighborhood_df\n",
    "\n",
    "neighborhood_df['Neighborhood Latitude'] = lat\n",
    "neighborhood_df['Neighborhood Longitude'] = lng\n",
    "\n",
    "# Drop unncessary \"Unnamed\" column from neighborhood df\n",
    "\n",
    "neighborhood_df.drop(columns=[\"Unnamed: 0\"], inplace=True)\n"
   ]
  },
  {
   "cell_type": "code",
   "execution_count": 55,
   "metadata": {},
   "outputs": [
    {
     "output_type": "execute_result",
     "data": {
      "text/plain": "    Neighborhood  Yoga Studio  Accessories Store  Adult Boutique  \\\n0       Allerton            0                  0               0   \n1       Annadale            0                  0               0   \n2  Arden Heights            0                  0               0   \n3      Arlington            0                  0               0   \n4       Arrochar            0                  0               0   \n\n   Afghan Restaurant  African Restaurant  American Restaurant  Animal Shelter  \\\n0                  0                   0                    1               0   \n1                  0                   0                    2               0   \n2                  0                   0                    0               0   \n3                  0                   0                    1               0   \n4                  0                   0                    0               0   \n\n   Antique Shop  Arcade  ...  Waste Facility  Waterfront  Weight Loss Center  \\\n0             0       0  ...               0           0                   0   \n1             0       0  ...               0           0                   0   \n2             0       0  ...               0           0                   0   \n3             0       0  ...               0           0                   0   \n4             0       0  ...               0           0                   0   \n\n   Whisky Bar  Wine Bar  Wine Shop  Wings Joint  Women's Store  \\\n0           0         0          0            0              0   \n1           0         0          0            0              0   \n2           0         0          0            0              0   \n3           0         0          0            0              0   \n4           0         0          0            0              0   \n\n   Neighborhood Latitude  Neighborhood Longitude  \n0              40.865788              -73.859319  \n1              40.538114              -74.178549  \n2              40.549286              -74.185887  \n3              40.635325              -74.165104  \n4              40.596313              -74.067124  \n\n[5 rows x 429 columns]",
      "text/html": "<div>\n<style scoped>\n    .dataframe tbody tr th:only-of-type {\n        vertical-align: middle;\n    }\n\n    .dataframe tbody tr th {\n        vertical-align: top;\n    }\n\n    .dataframe thead th {\n        text-align: right;\n    }\n</style>\n<table border=\"1\" class=\"dataframe\">\n  <thead>\n    <tr style=\"text-align: right;\">\n      <th></th>\n      <th>Neighborhood</th>\n      <th>Yoga Studio</th>\n      <th>Accessories Store</th>\n      <th>Adult Boutique</th>\n      <th>Afghan Restaurant</th>\n      <th>African Restaurant</th>\n      <th>American Restaurant</th>\n      <th>Animal Shelter</th>\n      <th>Antique Shop</th>\n      <th>Arcade</th>\n      <th>...</th>\n      <th>Waste Facility</th>\n      <th>Waterfront</th>\n      <th>Weight Loss Center</th>\n      <th>Whisky Bar</th>\n      <th>Wine Bar</th>\n      <th>Wine Shop</th>\n      <th>Wings Joint</th>\n      <th>Women's Store</th>\n      <th>Neighborhood Latitude</th>\n      <th>Neighborhood Longitude</th>\n    </tr>\n  </thead>\n  <tbody>\n    <tr>\n      <th>0</th>\n      <td>Allerton</td>\n      <td>0</td>\n      <td>0</td>\n      <td>0</td>\n      <td>0</td>\n      <td>0</td>\n      <td>1</td>\n      <td>0</td>\n      <td>0</td>\n      <td>0</td>\n      <td>...</td>\n      <td>0</td>\n      <td>0</td>\n      <td>0</td>\n      <td>0</td>\n      <td>0</td>\n      <td>0</td>\n      <td>0</td>\n      <td>0</td>\n      <td>40.865788</td>\n      <td>-73.859319</td>\n    </tr>\n    <tr>\n      <th>1</th>\n      <td>Annadale</td>\n      <td>0</td>\n      <td>0</td>\n      <td>0</td>\n      <td>0</td>\n      <td>0</td>\n      <td>2</td>\n      <td>0</td>\n      <td>0</td>\n      <td>0</td>\n      <td>...</td>\n      <td>0</td>\n      <td>0</td>\n      <td>0</td>\n      <td>0</td>\n      <td>0</td>\n      <td>0</td>\n      <td>0</td>\n      <td>0</td>\n      <td>40.538114</td>\n      <td>-74.178549</td>\n    </tr>\n    <tr>\n      <th>2</th>\n      <td>Arden Heights</td>\n      <td>0</td>\n      <td>0</td>\n      <td>0</td>\n      <td>0</td>\n      <td>0</td>\n      <td>0</td>\n      <td>0</td>\n      <td>0</td>\n      <td>0</td>\n      <td>...</td>\n      <td>0</td>\n      <td>0</td>\n      <td>0</td>\n      <td>0</td>\n      <td>0</td>\n      <td>0</td>\n      <td>0</td>\n      <td>0</td>\n      <td>40.549286</td>\n      <td>-74.185887</td>\n    </tr>\n    <tr>\n      <th>3</th>\n      <td>Arlington</td>\n      <td>0</td>\n      <td>0</td>\n      <td>0</td>\n      <td>0</td>\n      <td>0</td>\n      <td>1</td>\n      <td>0</td>\n      <td>0</td>\n      <td>0</td>\n      <td>...</td>\n      <td>0</td>\n      <td>0</td>\n      <td>0</td>\n      <td>0</td>\n      <td>0</td>\n      <td>0</td>\n      <td>0</td>\n      <td>0</td>\n      <td>40.635325</td>\n      <td>-74.165104</td>\n    </tr>\n    <tr>\n      <th>4</th>\n      <td>Arrochar</td>\n      <td>0</td>\n      <td>0</td>\n      <td>0</td>\n      <td>0</td>\n      <td>0</td>\n      <td>0</td>\n      <td>0</td>\n      <td>0</td>\n      <td>0</td>\n      <td>...</td>\n      <td>0</td>\n      <td>0</td>\n      <td>0</td>\n      <td>0</td>\n      <td>0</td>\n      <td>0</td>\n      <td>0</td>\n      <td>0</td>\n      <td>40.596313</td>\n      <td>-74.067124</td>\n    </tr>\n  </tbody>\n</table>\n<p>5 rows × 429 columns</p>\n</div>"
     },
     "metadata": {},
     "execution_count": 55
    }
   ],
   "source": [
    "neighborhood_df.head()"
   ]
  },
  {
   "cell_type": "markdown",
   "metadata": {},
   "source": [
    "### Note about the uszipcode library\n",
    "\n",
    "It becomes necessary, at this point, to try to get a ZIP code that matches each of our neighborhoods in \"neighborhood_df\".  With this information, we can then compare it to our other geocoded data organized by ZIP.\n",
    "\n",
    "For notes on API usage, see the [docs](https://pypi.org/project/uszipcode/)."
   ]
  },
  {
   "cell_type": "code",
   "execution_count": 66,
   "metadata": {
    "tags": [
     "outputPrepend",
     "outputPrepend"
    ]
   },
   "outputs": [
    {
     "output_type": "stream",
     "name": "stdout",
     "text": "88\nFound ZIP, 11357\nGetting ZIP for 40.73301404027834, -73.73889198912481\nFound ZIP, 11427\nGetting ZIP for 40.576155565431094, -73.8540175039252\nFound ZIP, 11694\nGetting ZIP for 40.72857318176675, -73.72012814826904\nFound ZIP, 11426\nGetting ZIP for 40.857277100738955, -73.88845196134805\nFound ZIP, 10458\nGetting ZIP for 40.61100890202044, -73.99517998380729\nFound ZIP, 11204\nGetting ZIP for 40.615149550453076, -73.89855633630317\nFound ZIP, 11234\nGetting ZIP for 40.73725071694497, -73.93244235260178\nFound ZIP, 11101\nGetting ZIP for 40.60577868452358, -74.18725638381567\nFound ZIP, 10311\nGetting ZIP for 40.68568291209144, -73.98374824115798\nFound ZIP, 11217\nGetting ZIP for 40.633130512758015, -73.99049823044811\nFound ZIP, 11219\nGetting ZIP for 40.55740128845452, -73.92551196994168\nFound ZIP, 11697\nGetting ZIP for 40.71093547252271, -73.81174822458634\nFound ZIP, 11435\nGetting ZIP for 40.57682506566604, -73.96509448785335\nFound ZIP, 11235\nGetting ZIP for 40.60302658351238, -73.8200548911032\nFound ZIP, 11693\nGetting ZIP for 40.67786104769531, -73.90331684852598\nFound ZIP, 11207\nGetting ZIP for 40.85272297633017, -73.86172577555115\nFound ZIP, 10462\nGetting ZIP for 40.69586372272408, -73.99378225496423\nFound ZIP, 11201\nGetting ZIP for 40.660003227336134, -73.75175310731153\nFound ZIP, 11413\nGetting ZIP for 40.66394994339755, -73.91023536176606\nFound ZIP, 11212\nGetting ZIP for 40.6095918004203, -74.15940948657122\nFound ZIP, 10314\nGetting ZIP for 40.69811611017901, -73.92525797487045\nFound ZIP, 11237\nGetting ZIP for 40.50608165346305, -74.22950350260027\nFound ZIP, 10307\nGetting ZIP for 40.69277463916085, -73.73526873708028\nFound ZIP, 11411\nGetting ZIP for 40.63556432797428, -73.90209269778966\nFound ZIP, 11236\nGetting ZIP for 40.782682567125704, -73.95325646837112\nFound ZIP, 10028\nGetting ZIP for 40.68054023107649, -73.99465372828006\nFound ZIP, 11231\nGetting ZIP for 40.81901437698832, -73.84802729582734\nFound ZIP, 10473\nGetting ZIP for 40.61333593766742, -74.11918058534843\nFound ZIP, 10310\nGetting ZIP for 40.81597606742414, -73.94321112603905\nFound ZIP, 10030\nGetting ZIP for 40.53053148283314, -74.23215775896526\nFound ZIP, 10309\nGetting ZIP for 40.744034706747975, -74.00311633472813\nFound ZIP, 10011\nGetting ZIP for 40.71561842231432, -73.99427936255978\nFound ZIP, 10002\nGetting ZIP for 40.847246704918135, -73.78648845267412\nFound ZIP, 10464\nGetting ZIP for 40.67856995727479, -73.86797598081334\nFound ZIP, 11208\nGetting ZIP for 40.71522892046282, -74.00541529873355\nFound ZIP, 10278\nGetting ZIP for 40.83142834161548, -73.90119903387668\nFound ZIP, 10456\nGetting ZIP for 40.80655112003589, -73.85414416189265\nFound ZIP, 10473\nGetting ZIP for 40.61917845202843, -74.072642445484\nFound ZIP, 10305\nGetting ZIP for 40.75910089146212, -73.99611936309479\nFound ZIP, 10018\nGetting ZIP for 40.69322942188151, -73.96784306216367\nFound ZIP, 11205\nGetting ZIP for 40.87429419303012, -73.829939108124\nFound ZIP, 10475\nGetting ZIP for 40.687919722485574, -73.99856139218463\nFound ZIP, 11231\nGetting ZIP for 40.78490274926021, -73.84304528896125\nFound ZIP, 11356\nGetting ZIP for 40.6044731896879, -74.08402364740357\nFound ZIP, 10305\nGetting ZIP for 40.83428380733851, -73.91558941773444\nFound ZIP, 10456\nGetting ZIP for 40.824780490842905, -73.91584652759009\nFound ZIP, 10451\nGetting ZIP for 40.57429256471601, -73.98868295821637\nFound ZIP, 11224\nGetting ZIP for 40.74238175015667, -73.85682497345258\nFound ZIP, 11368\nGetting ZIP for 40.844245936947374, -73.8240992675385\nFound ZIP, 10461\nGetting ZIP for 40.67082917695294, -73.94329119073582\nFound ZIP, 11213\nGetting ZIP for 40.68239101144211, -73.87661596457295\nFound ZIP, 11208\nGetting ZIP for 40.64367518334098, -73.9610131246678\nFound ZIP, 11226\nGetting ZIP for 40.58867294819928, -74.0963990531252\nFound ZIP, 10304\nGetting ZIP for 40.76684609790763, -73.74249820727329\nFound ZIP, 11363\nGetting ZIP for 40.69084402109802, -73.98346337431099\nFound ZIP, 11201\nGetting ZIP for 40.703176328226924, -73.98875280745041\nFound ZIP, 11201\nGetting ZIP for 40.61921945772264, -74.01931375636022\nFound ZIP, 11228\nGetting ZIP for 40.7640732388309, -73.86704147658772\nFound ZIP, 11369\nGetting ZIP for 40.64171776668961, -73.93610256185836\nFound ZIP, 11203\nGetting ZIP for 40.79224946663033, -73.94418223148523\nFound ZIP, 10029\nGetting ZIP for 40.669925700847045, -73.88069863917366\nFound ZIP, 11208\nGetting ZIP for 40.84269615786053, -73.88735617532338\nFound ZIP, 10460\nGetting ZIP for 40.727846777270244, -73.98222616506415\nFound ZIP, 10009\nGetting ZIP for 40.70849241041548, -73.93885815269195\nFound ZIP, 11206\nGetting ZIP for 40.887555677350775, -73.82780644716412\nFound ZIP, 10466\nGetting ZIP for 40.884561303037316, -73.84808271877169\nFound ZIP, 10466\nGetting ZIP for 40.595641807368494, -73.77613282391705\nFound ZIP, 11691\nGetting ZIP for 40.82198611816349, -73.81388514428619\nFound ZIP, 10465\nGetting ZIP for 40.57911874296122, -74.12727240604946\nFound ZIP, 10306\nGetting ZIP for 40.630146741193826, -74.1418167896889\nFound ZIP, 10303\nGetting ZIP for 40.74404850512202, -73.88165622288388\nFound ZIP, 11373\nGetting ZIP for 40.542230747450745, -74.1643308041936\nFound ZIP, 10312\nGetting ZIP for 40.64692606658579, -73.94817709920184\nFound ZIP, 11226\nGetting ZIP for 40.603134432500894, -73.75497968043872\nFound ZIP, 11691\nGetting ZIP for 40.89543742690383, -73.90564259591682\nFound ZIP, 10471\nGetting ZIP for 40.707107107270474, -74.01066544521271\nFound ZIP, 10271\nGetting ZIP for 40.63632589026677, -73.95840106533903\nFound ZIP, 11210\nGetting ZIP for 40.73967304763842, -73.99094710528259\nFound ZIP, 10011\nGetting ZIP for 40.630446043757466, -73.92911302644673\nFound ZIP, 11210\nGetting ZIP for 40.74137842194544, -73.70884705889245\nFound ZIP, 11426\nGetting ZIP for 40.76445419697846, -73.83177300329581\nFound ZIP, 11354\nGetting ZIP for 40.86099679638654, -73.89642655981623\nFound ZIP, 10458\nGetting ZIP for 40.72526378216503, -73.84447500788983\nFound ZIP, 11375\nGetting ZIP for 40.714611081511705, -73.8410221123401\nFound ZIP, 11375\nGetting ZIP for 40.68852726018977, -73.97290574369092\nFound ZIP, 11217\nGetting ZIP for 40.61476812694226, -74.03197914537985\nFound ZIP, 11209\nGetting ZIP for 40.61731079252983, -74.08173992211962\nFound ZIP, 10305\nGetting ZIP for 40.7343944653313, -73.78271337003264\nFound ZIP, 11366\nGetting ZIP for 40.70328109093014, -73.99550751888415\nFound ZIP, 11201\nGetting ZIP for 40.623845244784185, -73.91607483951323\nFound ZIP, 11236\nGetting ZIP for 40.590848433902046, -73.93010170691196\nFound ZIP, 11229\nGetting ZIP for 40.74944079974332, -73.71548118999145\nFound ZIP, 11004\nGetting ZIP for 40.70276242967838, -73.87074167435605\nFound ZIP, 11385\nGetting ZIP for 40.67393114318715, -73.99444087145339\nFound ZIP, 11231\nGetting ZIP for 40.737209832715, -73.98137594833541\nFound ZIP, 10009\nGetting ZIP for 40.62017151223189, -74.15315246387762\nFound ZIP, 10303\nGetting ZIP for 40.57621558711788, -74.10585598545434\nFound ZIP, 10306\nGetting ZIP for 40.598268359599906, -74.0766743627905\nFound ZIP, 10305\nGetting ZIP for 40.59526001306593, -73.97347087708445\nFound ZIP, 11223\nGetting ZIP for 40.549480228713605, -74.14932381490992\nFound ZIP, 10308\nGetting ZIP for 40.7302009848647, -73.95424093127394\nFound ZIP, 11222\nGetting ZIP for 40.55529523617321, -74.17079414786092\nFound ZIP, 10312\nGetting ZIP for 40.72693288536128, -73.99991402945902\nFound ZIP, 10012\nGetting ZIP for 40.624184791313006, -74.08724819983729\nFound ZIP, 10301\nGetting ZIP for 40.823604284811935, -73.94968791883366\nFound ZIP, 10031\nGetting ZIP for 40.58733774018741, -73.80553002968719\nFound ZIP, 11692\nGetting ZIP for 40.58913894875281, -74.15902208156602\nFound ZIP, 10314\nGetting ZIP for 40.836623010706056, -73.92610209358129\nFound ZIP, 10452\nGetting ZIP for 40.681998934517296, -73.890345709872\nFound ZIP, 11207\nGetting ZIP for 40.723824901829204, -73.79760300912672\nFound ZIP, 11432\nGetting ZIP for 40.71124344191904, -73.75925009335594\nFound ZIP, 11412\nGetting ZIP for 40.7209572076444, -73.7671416671473\nFound ZIP, 11423\nGetting ZIP for 40.598525095137255, -73.95918459428701\nFound ZIP, 11223\nGetting ZIP for 40.65422527738487, -73.83813764600279\nFound ZIP, 11414\nGetting ZIP for 40.75665808227519, -74.00011136202637\nFound ZIP, 10199\nGetting ZIP for 40.53191192048961, -74.19174105747814\nFound ZIP, 10312\nGetting ZIP for 40.743414090073536, -73.95386782130745\nFound ZIP, 11109\nGetting ZIP for 40.80972987938709, -73.88331505955291\nFound ZIP, 10474\nGetting ZIP for 40.86768396449915, -73.92121042203897\nFound ZIP, 10034\nGetting ZIP for 40.75198138007367, -73.88282109164366\nFound ZIP, 11372\nGetting ZIP for 40.70465736068717, -73.79690165888289\nFound ZIP, 11433\nGetting ZIP for 40.71680483014613, -73.7872269693666\nFound ZIP, 11432\nGetting ZIP for 40.71145964370482, -73.79646462081594\nFound ZIP, 11432\nGetting ZIP for 40.64238195800353, -73.98042110559473\nFound ZIP, 11218\nGetting ZIP for 40.705179035414794, -73.82981905825703\nFound ZIP, 11351\nGetting ZIP for 40.722578244228046, -73.82087764933566\nFound ZIP, 11367\nGetting ZIP for 40.88168737120521, -73.90281798724605\nFound ZIP, 10463\nGetting ZIP for 40.870392391414704, -73.90152264513144\nFound ZIP, 10468\nGetting ZIP for 40.66788389660247, -73.74025607989822\nFound ZIP, 11413\nGetting ZIP for 40.7360745708308, -73.86252471413741\nFound ZIP, 11373\nGetting ZIP for 40.76811265828733, -73.9588596881376\nFound ZIP, 10021\nGetting ZIP for 40.57650629379489, -74.13792663771568\nFound ZIP, 10306\nGetting ZIP for 40.773528889421655, -73.98533777001262\nFound ZIP, 10069\nGetting ZIP for 40.66391841925139, -73.84963782402441\nFound ZIP, 11414\nGetting ZIP for 40.71932379395907, -73.99730467208073\nFound ZIP, 10002\nGetting ZIP for 40.7708261928267, -73.73889775580741\nFound ZIP, 11363\nGetting ZIP for 40.75021734610528, -73.93920223915505\nFound ZIP, 11106\nGetting ZIP for 40.81509904545822, -73.8957882009446\nFound ZIP, 10474\nGetting ZIP for 40.71780674892765, -73.98089031999291\nFound ZIP, 10002\nGetting ZIP for 40.60937770113766, -73.94841515328893\nFound ZIP, 11229\nGetting ZIP for 40.790601556701475, -73.8266775713864\nFound ZIP, 11357\nGetting ZIP for 40.57791350308657, -73.94353722891886\nFound ZIP, 11235\nGetting ZIP for 40.61443251335098, -73.95743840559939\nFound ZIP, 11230\nGetting ZIP for 40.797307041702865, -73.96428617740655\nFound ZIP, 10025\nGetting ZIP for 40.81693442949779, -73.9573853935188\nFound ZIP, 10027\nGetting ZIP for 40.60180957631444, -74.12059399718001\nFound ZIP, 10314\nGetting ZIP for 40.87655077879964, -73.91065965862981\nFound ZIP, 10468\nGetting ZIP for 40.60974777989461, -73.93134404108497\nFound ZIP, 11229\nGetting ZIP for 40.63254639048112, -74.15008537046981\nFound ZIP, 10303\nGetting ZIP for 40.725427374093606, -73.8962171362686\nFound ZIP, 11378\nGetting ZIP for 40.819754370594936, -73.90942160757436\nFound ZIP, 10451\nGetting ZIP for 40.71641451115819, -73.88114319200605\nFound ZIP, 11379\nGetting ZIP for 40.573526905742824, -74.09348266303591\nFound ZIP, 10306\nGetting ZIP for 40.754691102706225, -73.98166882730305\nFound ZIP, 10110\nGetting ZIP for 40.7485096643122, -73.98871313285247\nFound ZIP, 10001\nGetting ZIP for 40.62559589869843, -73.95759523489838\nFound ZIP, 11210\nGetting ZIP for 40.61597423962336, -73.91515391550405\nFound ZIP, 11234\nGetting ZIP for 40.606336421685626, -73.90818571777424\nFound ZIP, 11234\nGetting ZIP for 40.807999738165826, -73.96389627905332\nFound ZIP, 10115\nGetting ZIP for 40.847897926062714, -73.91967159119567\nFound ZIP, 10453\nGetting ZIP for 40.847549063536334, -73.8504017803042\nFound ZIP, 10462\nGetting ZIP for 40.823591985855344, -73.90150648943059\nFound ZIP, 10456\nGetting ZIP for 40.80623874935177, -73.91609987487574\nFound ZIP, 10454\nGetting ZIP for 40.84382617671654, -73.91655551964418\nFound ZIP, 10452\nGetting ZIP for 40.84884160724665, -73.90829930881988\nFound ZIP, 10453\nGetting ZIP for 40.748303077252174, -73.97833207924127\nFound ZIP, 10017\nGetting ZIP for 40.572036730217015, -73.85754672410826\nFound ZIP, 11694\nGetting ZIP for 40.64061455913511, -74.08701650516626\nFound ZIP, 10301\nGetting ZIP for 40.57257231820632, -74.1164794360638\nFound ZIP, 10306\nGetting ZIP for 40.564255493073354, -74.10432707469124\nFound ZIP, 10306\nGetting ZIP for 40.662744279696604, -73.88511776379292\nFound ZIP, 11207\nGetting ZIP for 40.594252379161695, -74.16496031329827\nFound ZIP, 10314\nGetting ZIP for 40.72325901885768, -73.98843368023597\nFound ZIP, 10002\nGetting ZIP for 40.7540709990489, -73.85751790676447\nFound ZIP, 11368\nGetting ZIP for 40.90854282950666, -73.90453054908927\nFound ZIP, 10471\nGetting ZIP for 40.714822906532014, -73.95880857587582\nFound ZIP, 11211\nGetting ZIP for 40.87722415599446, -73.8793907395681\nFound ZIP, 10467\nGetting ZIP for 40.74561857141855, -73.75494976234332\nFound ZIP, 11364\nGetting ZIP for 40.5584622432888, -74.12156593771896\nFound ZIP, 10306\nGetting ZIP for 40.67840255479536, -73.91306831787395\nFound ZIP, 11233\nGetting ZIP for 40.61305976667942, -73.96836678035541\nFound ZIP, 11230\nGetting ZIP for 40.59632891379513, -74.08751118005578\nFound ZIP, 10304\nGetting ZIP for 40.87137078192371, -73.86332361652777\nFound ZIP, 10467\nGetting ZIP for 40.680708468265415, -73.84320266173447\nFound ZIP, 11416\nGetting ZIP for 40.63131755039667, -73.90233474295836\nFound ZIP, 11236\nGetting ZIP for 40.60919044434558, -74.08015734936295\nFound ZIP, 10305\nGetting ZIP for 40.67232052268197, -73.97705030183924\nFound ZIP, 11215\nGetting ZIP for 40.83793782226729, -73.85600310535783\nFound ZIP, 10462\nGetting ZIP for 40.85064140940335, -73.8320737824047\nFound ZIP, 10461\nGetting ZIP for 40.862965624779974, -73.84161194831223\nFound ZIP, 10469\nGetting ZIP for 40.857413498088654, -73.85475564017999\nFound ZIP, 10469\nGetting ZIP for 40.52469937611813, -74.21983106616777\nFound ZIP, 10309\nGetting ZIP for 40.73493618075478, -73.80486120040538\nFound ZIP, 11366\nGetting ZIP for 40.63968297845542, -74.17464532993542\nFound ZIP, 10303\nGetting ZIP for 40.80166362775621, -73.91322139386133\nFound ZIP, 10455\nGetting ZIP for 40.63366930554365, -74.12943426797007\nFound ZIP, 10310\nGetting ZIP for 40.526264067348116, -74.20152556457658\nFound ZIP, 10309\nGetting ZIP for 40.67682226225472, -73.9648592426269\nFound ZIP, 11238\nGetting ZIP for 40.65842001746981, -73.95489867077713\nFound ZIP, 11225\nGetting ZIP for 40.647008603185185, -73.96261316716048\nFound ZIP, 11226\nGetting ZIP for 40.718893092167356, -73.73871484578423\nFound ZIP, 11428\nGetting ZIP for 40.7445723092867, -73.82580915110559\nFound ZIP, 11355\nGetting ZIP for 40.75609129709471, -73.9456307033409\nFound ZIP, 11106\nGetting ZIP for 40.63563000681151, -74.09805062373887\nFound ZIP, 10301\nGetting ZIP for 40.761704526054146, -73.93157506072878\nFound ZIP, 11106\nGetting ZIP for 40.67625323025089, -74.01275897473559\nFound ZIP, 11231\nGetting ZIP for 40.728974094807356, -73.85782686905371\nFound ZIP, 11374\nGetting ZIP for 40.652117451793494, -73.91665331978048\nFound ZIP, 11212\nGetting ZIP for 40.69794731471763, -73.83183321446889\nFound ZIP, 11418\nGetting ZIP for 40.56960594275505, -74.1340572986257\nFound ZIP, 10306\nGetting ZIP for 40.5195414574891, -74.22957080626941\nFound ZIP, 10307\nGetting ZIP for 40.708323156138576, -73.90143517559589\nFound ZIP, 11237\nGetting ZIP for 40.890834493891305, -73.9125854610857\nFound ZIP, 10463\nGetting ZIP for 40.67521139591733, -73.77258787620906\nFound ZIP, 11434\nGetting ZIP for 40.58280169684559, -73.82236121088752\nFound ZIP, 11692\nGetting ZIP for 40.58034295646131, -73.84153370226186\nFound ZIP, 11694\nGetting ZIP for 40.76215960576283, -73.94916769227953\nFound ZIP, 11106\nGetting ZIP for 40.61530494652761, -74.06980526716141\nFound ZIP, 10305\nGetting ZIP for 40.65981643342808, -73.73526079428278\nFound ZIP, 11413\nGetting ZIP for 40.54940400650072, -74.21572851113952\nFound ZIP, 10309\nGetting ZIP for 40.56737588957032, -73.89213760232822\nFound ZIP, 11697\nGetting ZIP for 40.65557231328077, -73.92688212616955\nFound ZIP, 11203\nGetting ZIP for 40.54113992209177, -74.21776636068567\nFound ZIP, 10309\nGetting ZIP for 40.826579516869224, -73.82620275994074\nFound ZIP, 10465\nGetting ZIP for 40.57637537890224, -74.00787311200241\nFound ZIP, 11224\nGetting ZIP for 40.58689012678384, -73.9431864048298\nFound ZIP, 11235\nGetting ZIP for 40.60971934079284, -74.0666776606177\nFound ZIP, 10305\nGetting ZIP for 40.61919310792676, -74.09629029235458\nFound ZIP, 10304\nGetting ZIP for 40.72218384131794, -74.0006566695976\nFound ZIP, 10012\nGetting ZIP for 40.597710615657675, -73.79664750844047\nFound ZIP, 11692\nGetting ZIP for 40.821012197914015, -73.86574609554923\nFound ZIP, 10473\nGetting ZIP for 40.58024741350957, -74.0795529253982\nFound ZIP, 10305\nGetting ZIP for 40.69691125378989, -73.7904261313554\nFound ZIP, 11433\nGetting ZIP for 40.66854957767195, -73.80986478649041\nFound ZIP, 11436\nGetting ZIP for 40.71086147265064, -73.95800095153331\nFound ZIP, 11211\nGetting ZIP for 40.66623049036858, -73.76042092682287\nFound ZIP, 11434\nGetting ZIP for 40.88139497727086, -73.91719048210393\nFound ZIP, 10463\nGetting ZIP for 40.694445385223595, -73.75867603727717\nFound ZIP, 11412\nGetting ZIP for 40.6449815710044, -74.07935312512797\nFound ZIP, 10301\nGetting ZIP for 40.626927625381754, -74.07790192660066\nFound ZIP, 10305\nGetting ZIP for 40.64758905230874, -73.87936970045875\nFound ZIP, 11239\nGetting ZIP for 40.7759230156429, -73.90228960391673\nFound ZIP, 11105\nGetting ZIP for 40.730999554770605, -73.97405170469203\nFound ZIP, 10009\nGetting ZIP for 40.74017628351925, -73.92691617561577\nFound ZIP, 11104\nGetting ZIP for 40.74565180608076, -73.91819286431682\nFound ZIP, 11104\nGetting ZIP for 40.64510294925429, -74.01031618527784\nFound ZIP, 11220\nGetting ZIP for 40.760280331313744, -73.96355614094303\nFound ZIP, 10065\nGetting ZIP for 40.815109258040046, -73.81635002158441\nFound ZIP, 10465\nGetting ZIP for 40.59706851814673, -74.1113288180088\nFound ZIP, 10304\nGetting ZIP for 40.637316067110326, -74.08055351790115\nFound ZIP, 10301\nGetting ZIP for 40.50533376115642, -74.24656934235283\nFound ZIP, 10307\nGetting ZIP for 40.58631375103281, -74.19073717538116\nFound ZIP, 10311\nGetting ZIP for 40.721521967443216, -74.01068328559087\nFound ZIP, 10013\nGetting ZIP for 40.7469174107402, -73.97121928722265\nFound ZIP, 10017\nGetting ZIP for 40.752042369507215, -73.96770824581834\nFound ZIP, 10017\nGetting ZIP for 40.82977429787161, -73.85053524451935\nFound ZIP, 10472\nGetting ZIP for 40.85572707719664, -73.91041596191309\nFound ZIP, 10453\nGetting ZIP for 40.77563857330181, -73.96050763135\nFound ZIP, 10021\nGetting ZIP for 40.787657998534854, -73.97705923630603\nFound ZIP, 10023\nGetting ZIP for 40.733500254297574, -73.79671678028348\nFound ZIP, 11366\nGetting ZIP for 40.84360847124718, -73.86629918075609\nFound ZIP, 10460\nGetting ZIP for 40.70332149882874, -73.98111603592393\nFound ZIP, 11201\nGetting ZIP for 40.894705176609996, -73.84720052054901\nFound ZIP, 10466\nGetting ZIP for 40.851902525553044, -73.93690027985234\nFound ZIP, 10034\nGetting ZIP for 40.67503986503237, -73.93053108817337\nFound ZIP, 11213\nGetting ZIP for 40.631878926546065, -74.1071817826561\nFound ZIP, 10302\nGetting ZIP for 40.839475056726535, -73.87774474910546\nFound ZIP, 10460\nGetting ZIP for 40.73443393572435, -74.00617998126813\nFound ZIP, 10014\nGetting ZIP for 40.8406194964327, -73.84219407604444\nFound ZIP, 10461\nGetting ZIP for 40.62109047275409, -74.13304143951704\nFound ZIP, 10310\nGetting ZIP for 40.781290766026935, -73.81420216610863\nFound ZIP, 11357\nGetting ZIP for 40.88103887819211, -73.85744642974205\nFound ZIP, 10467\nGetting ZIP for 40.707144393442505, -73.95811529220926\nFound ZIP, 11211\nGetting ZIP for 40.603706926273716, -74.13208447484298\nFound ZIP, 10314\nGetting ZIP for 40.65694583575104, -73.98007340430172\nFound ZIP, 11218\nGetting ZIP for 40.66094656188111, -73.93718680559314\nFound ZIP, 11213\nGetting ZIP for 40.68988687915789, -73.8581104655432\nFound ZIP, 11421\nGetting ZIP for 40.898272612138044, -73.86731496814177\nFound ZIP, 10470\nGetting ZIP for 40.541967622888755, -74.20524582480327\nFound ZIP, 10309\nGetting ZIP for 40.746349088602216, -73.90184166838284\nFound ZIP, 11377\nGetting ZIP for 40.77592984988488, -73.94711784471826\nFound ZIP, 10028\n"
    },
    {
     "output_type": "error",
     "ename": "AttributeError",
     "evalue": "'list' object has no attribute 'un'",
     "traceback": [
      "\u001b[0;31m---------------------------------------------------------------------------\u001b[0m",
      "\u001b[0;31mAttributeError\u001b[0m                            Traceback (most recent call last)",
      "\u001b[0;32m<ipython-input-66-efe37dfbc688>\u001b[0m in \u001b[0;36m<module>\u001b[0;34m\u001b[0m\n\u001b[1;32m     12\u001b[0m     \u001b[0mzips\u001b[0m\u001b[0;34m.\u001b[0m\u001b[0mappend\u001b[0m\u001b[0;34m(\u001b[0m\u001b[0mres\u001b[0m\u001b[0;34m[\u001b[0m\u001b[0;36m0\u001b[0m\u001b[0;34m]\u001b[0m\u001b[0;34m.\u001b[0m\u001b[0mzipcode\u001b[0m\u001b[0;34m)\u001b[0m\u001b[0;34m\u001b[0m\u001b[0;34m\u001b[0m\u001b[0m\n\u001b[1;32m     13\u001b[0m     \u001b[0mprint\u001b[0m\u001b[0;34m(\u001b[0m\u001b[0;34mf'Found ZIP, {res[0].zipcode}'\u001b[0m\u001b[0;34m)\u001b[0m\u001b[0;34m\u001b[0m\u001b[0;34m\u001b[0m\u001b[0m\n\u001b[0;32m---> 14\u001b[0;31m \u001b[0mlen\u001b[0m\u001b[0;34m(\u001b[0m\u001b[0mzips\u001b[0m\u001b[0;34m.\u001b[0m\u001b[0mun\u001b[0m\u001b[0;34m)\u001b[0m\u001b[0;34m\u001b[0m\u001b[0;34m\u001b[0m\u001b[0m\n\u001b[0m",
      "\u001b[0;31mAttributeError\u001b[0m: 'list' object has no attribute 'un'"
     ]
    }
   ],
   "source": [
    "# Use uszipcodes library to get zip codes for each neighborhood\n",
    "\n",
    "import uszipcode \n",
    "\n",
    "search = uszipcode.SearchEngine()\n",
    "\n",
    "zips = []\n",
    "\n",
    "for lat, lng in zip(neighborhood_df['Neighborhood Latitude'], neighborhood_df['Neighborhood Longitude']):\n",
    "    print(f'Getting ZIP for {lat}, {lng}')\n",
    "    res = search.by_coordinates(lat, lng, radius=10, returns=1)\n",
    "    zips.append(res[0].zipcode)\n",
    "    print(f'Found ZIP, {res[0].zipcode}')\n",
    "len(zips.un)"
   ]
  },
  {
   "cell_type": "code",
   "execution_count": 75,
   "metadata": {},
   "outputs": [
    {
     "output_type": "execute_result",
     "data": {
      "text/plain": "148"
     },
     "metadata": {},
     "execution_count": 75
    }
   ],
   "source": [
    "zips = pd.Series(zips)\n",
    "len(zips.unique())"
   ]
  },
  {
   "cell_type": "markdown",
   "metadata": {},
   "source": [
    "# 7. Modeling"
   ]
  },
  {
   "cell_type": "markdown",
   "metadata": {},
   "source": [
    "# 8. Evaluation"
   ]
  },
  {
   "cell_type": "markdown",
   "metadata": {},
   "source": [
    "# 9. Deployment"
   ]
  },
  {
   "cell_type": "markdown",
   "metadata": {},
   "source": [
    "# 10. Feedback"
   ]
  }
 ],
 "metadata": {
  "language_info": {
   "codemirror_mode": {
    "name": "ipython",
    "version": 3
   },
   "file_extension": ".py",
   "mimetype": "text/x-python",
   "name": "python",
   "nbconvert_exporter": "python",
   "pygments_lexer": "ipython3",
   "version": "3.8.2-final"
  },
  "orig_nbformat": 2,
  "kernelspec": {
   "name": "python38264bita7224e095fd2487f8cc68b5f4fe87259",
   "display_name": "Python 3.8.2 64-bit"
  }
 },
 "nbformat": 4,
 "nbformat_minor": 2
}