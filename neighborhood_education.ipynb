{
 "cells": [
  {
   "cell_type": "markdown",
   "metadata": {},
   "source": [
    "# 1. Project Understanding\n",
    "\n",
    "The problem is this: instructors and decision-makers in the education field have a difficult time deciding where and how to invest limited resources.  The goal of these individuals is to help students to be successful. Therefore, the ability to guage which neighborhoods' students are more or less successful than any other and *why* is very valuable.  This analysis seeks to provide decision makers with a way to answer these questions: \n",
    "* Is any given student a product of their environemnt?  Put more succinclty: is there a relationship between a student's environment (on a neighborhood level) and their academic success? \n",
    "* If such a relationship exists, is it possible to say whether or not a body of students is likely to succeed, based on one perameter or another?\n",
    "\n",
    "Given the scope of this project and the amount of data being compared, we will limit our examination to a single city: New York City.  The variety of neighborhoods and success rates among students (as well as the high volume of quality data) makes this a choice of convenience, though we are hoping, not a fatal one."
   ]
  },
  {
   "cell_type": "markdown",
   "metadata": {},
   "source": [
    "# 2. Analytic Approach\n",
    "\n",
    "First, we must find a way of quantifying \"success\" in an academic setting. Thankfully, metrics such as GPA and SAT scores have long been used for such a purpose, and are readily available.\n",
    "\n",
    "Secondly, we must find a way of identifying those \"feautures\" that makes any given neighborhood different from or similar to another one.  The sky is the limit, in this regard.  However, for the purposes of this analysis, we will focus on the following:\n",
    "\n",
    "* Average per-capita income\n",
    "* Number of occurences of crime (separated by type) in a given neighborhood\n",
    "* Number of neighborhood features in the form of venues (separated by type)\n",
    "\n",
    "Given that each of these values is a countable feature and the feature we are tryign to predict (success in the form of a test score) is also a continuous quantity, we should be able to model the problem using various forms of regression.  For the Data Exploration phase, we will use various forms of linear regression to identify relationships.  For the model-building phase, we will use a polynomial regression to try to predict student success. "
   ]
  },
  {
   "cell_type": "markdown",
   "metadata": {},
   "source": [
    "# 3. Data Requirements\n",
    "\n",
    "Any geocoded data, such as the following, should be organized either by zip code or neighborhood name.  Furthermore, dated information, such as SAT scores, crimes, and average income, should be from around around the same time period.  After all, we are supposing that the students producing these scores were subject to the environment we are measuring."
   ]
  },
  {
   "cell_type": "markdown",
   "metadata": {},
   "source": [
    "# 4. Data Collection\n",
    "\n",
    "### Neighborhood Venue data\n",
    "\n",
    "*(Constructed during previous Coursera exercises)* Contains Foursquare Data for all of New York City's neighborhoods.\n",
    "\n",
    "### Income Data\n",
    "\n",
    "[Income data on Kaggle](https://www.kaggle.com/wpncrh/zip-code-income-tax-data-2014)\n",
    "\n",
    "### Average SAT data for NY schools\n",
    "\n",
    "[NY SAT data on Kaggle](https://www.kaggle.com/nycopendata/high-schools)\n",
    "\n",
    "### New York City Crime Data \n",
    "\n",
    "[Crime Data on Kaggle](https://www.kaggle.com/adamschroeder/crimes-new-york-city)"
   ]
  },
  {
   "cell_type": "code",
   "execution_count": 9,
   "metadata": {},
   "outputs": [],
   "source": [
    "# import basic libraries\n",
    "\n",
    "import pandas as pd \n",
    "\n",
    "# import data from CSV files\n",
    "\n",
    "ny_crimes_df = pd.read_csv('data/NYPD_Complaint_Data_Historic.csv')\n",
    "ny_crimes_df_desc = pd.read_csv('data/Crime_Column_Description.csv')\n"
   ]
  },
  {
   "cell_type": "code",
   "execution_count": 18,
   "metadata": {},
   "outputs": [
    {
     "output_type": "stream",
     "name": "stdout",
     "text": "0     Randomly generated persistent ID for each comp...\n1     Exact date of occurrence for the reported even...\n2     Exact time of occurrence for the reported even...\n3     Ending date of occurrence for the reported eve...\n4     Ending time of occurrence for the reported eve...\n5                    Date event was reported to police \n6               Three digit offense classification code\n7     Description of offense corresponding with key ...\n8     Three digit internal classification code (more...\n9     Description of internal classification corresp...\n10    Indicator of whether crime was successfully co...\n11    Level of offense: felony, misdemeanor, violation \n12    Jurisdiction responsible for incident. Either ...\n13    The name of the borough in which the incident ...\n14          The precinct in which the incident occurred\n15    Specific location of occurrence in or around t...\n16    Specific description of premises; grocery stor...\n17    Name of NYC park, playground or greenspace of ...\n18    Name of NYCHA housing development of occurrenc...\n19    X-coordinate for New York State Plane Coordina...\n20    Y-coordinate for New York State Plane Coordina...\n21    Latitude coordinate for Global Coordinate Syst...\n22    Longitude coordinate for Global Coordinate Sys...\nName: Description, dtype: object\n"
    },
    {
     "output_type": "execute_result",
     "data": {
      "text/plain": "   CMPLNT_NUM CMPLNT_FR_DT  ...  Longitude                        Lat_Lon\n0   101109527   12/31/2015  ... -73.916661  (40.828848333, -73.916661142)\n1   153401121   12/31/2015  ... -73.784557  (40.697338138, -73.784556739)\n2   569369778   12/31/2015  ... -73.945052  (40.802606608, -73.945051911)\n3   968417082   12/31/2015  ... -73.726339  (40.654549444, -73.726338791)\n4   641637920   12/31/2015  ... -73.987891     (40.7380024, -73.98789129)\n\n[5 rows x 24 columns]",
      "text/html": "<div>\n<style scoped>\n    .dataframe tbody tr th:only-of-type {\n        vertical-align: middle;\n    }\n\n    .dataframe tbody tr th {\n        vertical-align: top;\n    }\n\n    .dataframe thead th {\n        text-align: right;\n    }\n</style>\n<table border=\"1\" class=\"dataframe\">\n  <thead>\n    <tr style=\"text-align: right;\">\n      <th></th>\n      <th>CMPLNT_NUM</th>\n      <th>CMPLNT_FR_DT</th>\n      <th>CMPLNT_FR_TM</th>\n      <th>CMPLNT_TO_DT</th>\n      <th>CMPLNT_TO_TM</th>\n      <th>RPT_DT</th>\n      <th>KY_CD</th>\n      <th>OFNS_DESC</th>\n      <th>PD_CD</th>\n      <th>PD_DESC</th>\n      <th>CRM_ATPT_CPTD_CD</th>\n      <th>LAW_CAT_CD</th>\n      <th>JURIS_DESC</th>\n      <th>BORO_NM</th>\n      <th>ADDR_PCT_CD</th>\n      <th>LOC_OF_OCCUR_DESC</th>\n      <th>PREM_TYP_DESC</th>\n      <th>PARKS_NM</th>\n      <th>HADEVELOPT</th>\n      <th>X_COORD_CD</th>\n      <th>Y_COORD_CD</th>\n      <th>Latitude</th>\n      <th>Longitude</th>\n      <th>Lat_Lon</th>\n    </tr>\n  </thead>\n  <tbody>\n    <tr>\n      <th>0</th>\n      <td>101109527</td>\n      <td>12/31/2015</td>\n      <td>23:45:00</td>\n      <td>NaN</td>\n      <td>NaN</td>\n      <td>12/31/2015</td>\n      <td>113</td>\n      <td>FORGERY</td>\n      <td>729.0</td>\n      <td>FORGERY,ETC.,UNCLASSIFIED-FELO</td>\n      <td>COMPLETED</td>\n      <td>FELONY</td>\n      <td>N.Y. POLICE DEPT</td>\n      <td>BRONX</td>\n      <td>44.0</td>\n      <td>INSIDE</td>\n      <td>BAR/NIGHT CLUB</td>\n      <td>NaN</td>\n      <td>NaN</td>\n      <td>1007314.0</td>\n      <td>241257.0</td>\n      <td>40.828848</td>\n      <td>-73.916661</td>\n      <td>(40.828848333, -73.916661142)</td>\n    </tr>\n    <tr>\n      <th>1</th>\n      <td>153401121</td>\n      <td>12/31/2015</td>\n      <td>23:36:00</td>\n      <td>NaN</td>\n      <td>NaN</td>\n      <td>12/31/2015</td>\n      <td>101</td>\n      <td>MURDER &amp; NON-NEGL. MANSLAUGHTER</td>\n      <td>NaN</td>\n      <td>NaN</td>\n      <td>COMPLETED</td>\n      <td>FELONY</td>\n      <td>N.Y. POLICE DEPT</td>\n      <td>QUEENS</td>\n      <td>103.0</td>\n      <td>OUTSIDE</td>\n      <td>NaN</td>\n      <td>NaN</td>\n      <td>NaN</td>\n      <td>1043991.0</td>\n      <td>193406.0</td>\n      <td>40.697338</td>\n      <td>-73.784557</td>\n      <td>(40.697338138, -73.784556739)</td>\n    </tr>\n    <tr>\n      <th>2</th>\n      <td>569369778</td>\n      <td>12/31/2015</td>\n      <td>23:30:00</td>\n      <td>NaN</td>\n      <td>NaN</td>\n      <td>12/31/2015</td>\n      <td>117</td>\n      <td>DANGEROUS DRUGS</td>\n      <td>503.0</td>\n      <td>CONTROLLED SUBSTANCE,INTENT TO</td>\n      <td>COMPLETED</td>\n      <td>FELONY</td>\n      <td>N.Y. POLICE DEPT</td>\n      <td>MANHATTAN</td>\n      <td>28.0</td>\n      <td>NaN</td>\n      <td>OTHER</td>\n      <td>NaN</td>\n      <td>NaN</td>\n      <td>999463.0</td>\n      <td>231690.0</td>\n      <td>40.802607</td>\n      <td>-73.945052</td>\n      <td>(40.802606608, -73.945051911)</td>\n    </tr>\n    <tr>\n      <th>3</th>\n      <td>968417082</td>\n      <td>12/31/2015</td>\n      <td>23:30:00</td>\n      <td>NaN</td>\n      <td>NaN</td>\n      <td>12/31/2015</td>\n      <td>344</td>\n      <td>ASSAULT 3 &amp; RELATED OFFENSES</td>\n      <td>101.0</td>\n      <td>ASSAULT 3</td>\n      <td>COMPLETED</td>\n      <td>MISDEMEANOR</td>\n      <td>N.Y. POLICE DEPT</td>\n      <td>QUEENS</td>\n      <td>105.0</td>\n      <td>INSIDE</td>\n      <td>RESIDENCE-HOUSE</td>\n      <td>NaN</td>\n      <td>NaN</td>\n      <td>1060183.0</td>\n      <td>177862.0</td>\n      <td>40.654549</td>\n      <td>-73.726339</td>\n      <td>(40.654549444, -73.726338791)</td>\n    </tr>\n    <tr>\n      <th>4</th>\n      <td>641637920</td>\n      <td>12/31/2015</td>\n      <td>23:25:00</td>\n      <td>12/31/2015</td>\n      <td>23:30:00</td>\n      <td>12/31/2015</td>\n      <td>344</td>\n      <td>ASSAULT 3 &amp; RELATED OFFENSES</td>\n      <td>101.0</td>\n      <td>ASSAULT 3</td>\n      <td>COMPLETED</td>\n      <td>MISDEMEANOR</td>\n      <td>N.Y. POLICE DEPT</td>\n      <td>MANHATTAN</td>\n      <td>13.0</td>\n      <td>FRONT OF</td>\n      <td>OTHER</td>\n      <td>NaN</td>\n      <td>NaN</td>\n      <td>987606.0</td>\n      <td>208148.0</td>\n      <td>40.738002</td>\n      <td>-73.987891</td>\n      <td>(40.7380024, -73.98789129)</td>\n    </tr>\n  </tbody>\n</table>\n</div>"
     },
     "metadata": {},
     "execution_count": 18
    }
   ],
   "source": [
    "# Crime Data\n",
    "print(ny_crimes_df_desc['Description'])\n",
    "ny_crimes_df.head()"
   ]
  },
  {
   "cell_type": "code",
   "execution_count": 13,
   "metadata": {},
   "outputs": [],
   "source": [
    "# Income Data\n",
    "income_df = pd.read_csv('data/14zpallagi.csv')"
   ]
  },
  {
   "cell_type": "code",
   "execution_count": 19,
   "metadata": {},
   "outputs": [
    {
     "output_type": "execute_result",
     "data": {
      "text/plain": "   STATEFIPS STATE  zipcode  agi_stub  ...   N11901    A11901    N11902     A11902\n0          1    AL        0         1  ...  62690.0   47433.0  744910.0  1964826.0\n1          1    AL        0         2  ...  70780.0  101969.0  413790.0  1177400.0\n2          1    AL        0         3  ...  62170.0  132373.0  192050.0   538160.0\n3          1    AL        0         4  ...  45120.0  124048.0  115470.0   375882.0\n4          1    AL        0         5  ...  81180.0  387298.0  114380.0   448442.0\n\n[5 rows x 127 columns]",
      "text/html": "<div>\n<style scoped>\n    .dataframe tbody tr th:only-of-type {\n        vertical-align: middle;\n    }\n\n    .dataframe tbody tr th {\n        vertical-align: top;\n    }\n\n    .dataframe thead th {\n        text-align: right;\n    }\n</style>\n<table border=\"1\" class=\"dataframe\">\n  <thead>\n    <tr style=\"text-align: right;\">\n      <th></th>\n      <th>STATEFIPS</th>\n      <th>STATE</th>\n      <th>zipcode</th>\n      <th>agi_stub</th>\n      <th>N1</th>\n      <th>mars1</th>\n      <th>MARS2</th>\n      <th>MARS4</th>\n      <th>PREP</th>\n      <th>N2</th>\n      <th>NUMDEP</th>\n      <th>TOTAL_VITA</th>\n      <th>VITA</th>\n      <th>TCE</th>\n      <th>A00100</th>\n      <th>N02650</th>\n      <th>A02650</th>\n      <th>N00200</th>\n      <th>A00200</th>\n      <th>N00300</th>\n      <th>A00300</th>\n      <th>N00600</th>\n      <th>A00600</th>\n      <th>N00650</th>\n      <th>A00650</th>\n      <th>N00700</th>\n      <th>A00700</th>\n      <th>N00900</th>\n      <th>A00900</th>\n      <th>N01000</th>\n      <th>A01000</th>\n      <th>N01400</th>\n      <th>A01400</th>\n      <th>N01700</th>\n      <th>A01700</th>\n      <th>SCHF</th>\n      <th>N02300</th>\n      <th>A02300</th>\n      <th>N02500</th>\n      <th>A02500</th>\n      <th>...</th>\n      <th>N07230</th>\n      <th>A07230</th>\n      <th>N07240</th>\n      <th>A07240</th>\n      <th>N07220</th>\n      <th>A07220</th>\n      <th>N07260</th>\n      <th>A07260</th>\n      <th>N09400</th>\n      <th>A09400</th>\n      <th>N85770</th>\n      <th>A85770</th>\n      <th>N85775</th>\n      <th>A85775</th>\n      <th>N09750</th>\n      <th>A09750</th>\n      <th>N10600</th>\n      <th>A10600</th>\n      <th>N59660</th>\n      <th>A59660</th>\n      <th>N59720</th>\n      <th>A59720</th>\n      <th>N11070</th>\n      <th>A11070</th>\n      <th>N10960</th>\n      <th>A10960</th>\n      <th>N11560</th>\n      <th>A11560</th>\n      <th>N06500</th>\n      <th>A06500</th>\n      <th>N10300</th>\n      <th>A10300</th>\n      <th>N85530</th>\n      <th>A85530</th>\n      <th>N85300</th>\n      <th>A85300</th>\n      <th>N11901</th>\n      <th>A11901</th>\n      <th>N11902</th>\n      <th>A11902</th>\n    </tr>\n  </thead>\n  <tbody>\n    <tr>\n      <th>0</th>\n      <td>1</td>\n      <td>AL</td>\n      <td>0</td>\n      <td>1</td>\n      <td>850050.0</td>\n      <td>481840.0</td>\n      <td>115070.0</td>\n      <td>240450.0</td>\n      <td>479900.0</td>\n      <td>1401930.0</td>\n      <td>548630.0</td>\n      <td>24840.0</td>\n      <td>16660.0</td>\n      <td>8180.0</td>\n      <td>11004990.0</td>\n      <td>850050.0</td>\n      <td>11187657.0</td>\n      <td>682860.0</td>\n      <td>8746419.0</td>\n      <td>95140.0</td>\n      <td>64688.0</td>\n      <td>43950.0</td>\n      <td>72642.0</td>\n      <td>38880.0</td>\n      <td>46689.0</td>\n      <td>13400.0</td>\n      <td>5825.0</td>\n      <td>145420.0</td>\n      <td>810441.0</td>\n      <td>35870.0</td>\n      <td>38739.0</td>\n      <td>37300.0</td>\n      <td>223749.0</td>\n      <td>107590.0</td>\n      <td>1047421.0</td>\n      <td>8170.0</td>\n      <td>33740.0</td>\n      <td>97553.0</td>\n      <td>36220.0</td>\n      <td>64407.0</td>\n      <td>...</td>\n      <td>32980.0</td>\n      <td>16979.0</td>\n      <td>32000.0</td>\n      <td>5460.0</td>\n      <td>31350.0</td>\n      <td>9543.0</td>\n      <td>2240.0</td>\n      <td>604.0</td>\n      <td>116380.0</td>\n      <td>153768.0</td>\n      <td>24900.0</td>\n      <td>84425.0</td>\n      <td>25060.0</td>\n      <td>83442.0</td>\n      <td>56250.0</td>\n      <td>6175.0</td>\n      <td>787080.0</td>\n      <td>2241625.0</td>\n      <td>390640.0</td>\n      <td>1169025.0</td>\n      <td>361400.0</td>\n      <td>1050890.0</td>\n      <td>251070.0</td>\n      <td>319709.0</td>\n      <td>80750.0</td>\n      <td>77190.0</td>\n      <td>12390.0</td>\n      <td>6237.0</td>\n      <td>252000.0</td>\n      <td>157928.0</td>\n      <td>389850.0</td>\n      <td>324575.0</td>\n      <td>0.0</td>\n      <td>0.0</td>\n      <td>0.0</td>\n      <td>0.0</td>\n      <td>62690.0</td>\n      <td>47433.0</td>\n      <td>744910.0</td>\n      <td>1964826.0</td>\n    </tr>\n    <tr>\n      <th>1</th>\n      <td>1</td>\n      <td>AL</td>\n      <td>0</td>\n      <td>2</td>\n      <td>491370.0</td>\n      <td>200750.0</td>\n      <td>150290.0</td>\n      <td>125560.0</td>\n      <td>281350.0</td>\n      <td>1016010.0</td>\n      <td>375670.0</td>\n      <td>10850.0</td>\n      <td>7080.0</td>\n      <td>3780.0</td>\n      <td>17658446.0</td>\n      <td>491370.0</td>\n      <td>17836190.0</td>\n      <td>425830.0</td>\n      <td>14494884.0</td>\n      <td>92610.0</td>\n      <td>69421.0</td>\n      <td>41040.0</td>\n      <td>96100.0</td>\n      <td>36250.0</td>\n      <td>64683.0</td>\n      <td>51450.0</td>\n      <td>27881.0</td>\n      <td>62500.0</td>\n      <td>250528.0</td>\n      <td>31950.0</td>\n      <td>75029.0</td>\n      <td>34210.0</td>\n      <td>317668.0</td>\n      <td>101020.0</td>\n      <td>1791833.0</td>\n      <td>8600.0</td>\n      <td>18180.0</td>\n      <td>52682.0</td>\n      <td>88200.0</td>\n      <td>560917.0</td>\n      <td>...</td>\n      <td>45700.0</td>\n      <td>47932.0</td>\n      <td>67530.0</td>\n      <td>12516.0</td>\n      <td>122540.0</td>\n      <td>108415.0</td>\n      <td>10560.0</td>\n      <td>4749.0</td>\n      <td>37790.0</td>\n      <td>80221.0</td>\n      <td>10870.0</td>\n      <td>34145.0</td>\n      <td>11810.0</td>\n      <td>38398.0</td>\n      <td>33560.0</td>\n      <td>6324.0</td>\n      <td>480490.0</td>\n      <td>2034491.0</td>\n      <td>134550.0</td>\n      <td>272098.0</td>\n      <td>112880.0</td>\n      <td>232001.0</td>\n      <td>103680.0</td>\n      <td>154145.0</td>\n      <td>37240.0</td>\n      <td>34513.0</td>\n      <td>3410.0</td>\n      <td>2665.0</td>\n      <td>368090.0</td>\n      <td>850897.0</td>\n      <td>397110.0</td>\n      <td>950446.0</td>\n      <td>0.0</td>\n      <td>0.0</td>\n      <td>0.0</td>\n      <td>0.0</td>\n      <td>70780.0</td>\n      <td>101969.0</td>\n      <td>413790.0</td>\n      <td>1177400.0</td>\n    </tr>\n    <tr>\n      <th>2</th>\n      <td>1</td>\n      <td>AL</td>\n      <td>0</td>\n      <td>3</td>\n      <td>259540.0</td>\n      <td>75820.0</td>\n      <td>142970.0</td>\n      <td>34070.0</td>\n      <td>156720.0</td>\n      <td>589190.0</td>\n      <td>186770.0</td>\n      <td>3170.0</td>\n      <td>1680.0</td>\n      <td>1490.0</td>\n      <td>15963943.0</td>\n      <td>259540.0</td>\n      <td>16117661.0</td>\n      <td>223910.0</td>\n      <td>12316371.0</td>\n      <td>82760.0</td>\n      <td>69005.0</td>\n      <td>39530.0</td>\n      <td>123290.0</td>\n      <td>35530.0</td>\n      <td>85619.0</td>\n      <td>62280.0</td>\n      <td>40993.0</td>\n      <td>39640.0</td>\n      <td>253529.0</td>\n      <td>31650.0</td>\n      <td>108577.0</td>\n      <td>28200.0</td>\n      <td>360311.0</td>\n      <td>72620.0</td>\n      <td>1757156.0</td>\n      <td>7680.0</td>\n      <td>8900.0</td>\n      <td>27490.0</td>\n      <td>60570.0</td>\n      <td>882812.0</td>\n      <td>...</td>\n      <td>24340.0</td>\n      <td>31082.0</td>\n      <td>17950.0</td>\n      <td>2792.0</td>\n      <td>76950.0</td>\n      <td>116151.0</td>\n      <td>8970.0</td>\n      <td>3975.0</td>\n      <td>26800.0</td>\n      <td>65138.0</td>\n      <td>1720.0</td>\n      <td>5212.0</td>\n      <td>2660.0</td>\n      <td>9160.0</td>\n      <td>7470.0</td>\n      <td>2734.0</td>\n      <td>255980.0</td>\n      <td>1736742.0</td>\n      <td>660.0</td>\n      <td>138.0</td>\n      <td>410.0</td>\n      <td>71.0</td>\n      <td>10670.0</td>\n      <td>14029.0</td>\n      <td>18570.0</td>\n      <td>17072.0</td>\n      <td>360.0</td>\n      <td>460.0</td>\n      <td>246400.0</td>\n      <td>1236058.0</td>\n      <td>250230.0</td>\n      <td>1319641.0</td>\n      <td>0.0</td>\n      <td>0.0</td>\n      <td>0.0</td>\n      <td>0.0</td>\n      <td>62170.0</td>\n      <td>132373.0</td>\n      <td>192050.0</td>\n      <td>538160.0</td>\n    </tr>\n    <tr>\n      <th>3</th>\n      <td>1</td>\n      <td>AL</td>\n      <td>0</td>\n      <td>4</td>\n      <td>164840.0</td>\n      <td>26730.0</td>\n      <td>125410.0</td>\n      <td>10390.0</td>\n      <td>99750.0</td>\n      <td>423300.0</td>\n      <td>133020.0</td>\n      <td>1260.0</td>\n      <td>700.0</td>\n      <td>560.0</td>\n      <td>14294375.0</td>\n      <td>164840.0</td>\n      <td>14422811.0</td>\n      <td>143710.0</td>\n      <td>10817987.0</td>\n      <td>69880.0</td>\n      <td>62269.0</td>\n      <td>35700.0</td>\n      <td>126688.0</td>\n      <td>32500.0</td>\n      <td>90127.0</td>\n      <td>57000.0</td>\n      <td>43748.0</td>\n      <td>28060.0</td>\n      <td>232026.0</td>\n      <td>28920.0</td>\n      <td>139040.0</td>\n      <td>22560.0</td>\n      <td>378333.0</td>\n      <td>52890.0</td>\n      <td>1584142.0</td>\n      <td>6130.0</td>\n      <td>5060.0</td>\n      <td>16508.0</td>\n      <td>40540.0</td>\n      <td>793454.0</td>\n      <td>...</td>\n      <td>17800.0</td>\n      <td>23168.0</td>\n      <td>0.0</td>\n      <td>0.0</td>\n      <td>54560.0</td>\n      <td>90111.0</td>\n      <td>6020.0</td>\n      <td>2195.0</td>\n      <td>19600.0</td>\n      <td>54016.0</td>\n      <td>200.0</td>\n      <td>426.0</td>\n      <td>750.0</td>\n      <td>2206.0</td>\n      <td>2100.0</td>\n      <td>1206.0</td>\n      <td>163320.0</td>\n      <td>1658063.0</td>\n      <td>0.0</td>\n      <td>0.0</td>\n      <td>0.0</td>\n      <td>0.0</td>\n      <td>740.0</td>\n      <td>938.0</td>\n      <td>12980.0</td>\n      <td>11946.0</td>\n      <td>40.0</td>\n      <td>41.0</td>\n      <td>163100.0</td>\n      <td>1323173.0</td>\n      <td>163580.0</td>\n      <td>1394913.0</td>\n      <td>0.0</td>\n      <td>0.0</td>\n      <td>0.0</td>\n      <td>0.0</td>\n      <td>45120.0</td>\n      <td>124048.0</td>\n      <td>115470.0</td>\n      <td>375882.0</td>\n    </tr>\n    <tr>\n      <th>4</th>\n      <td>1</td>\n      <td>AL</td>\n      <td>0</td>\n      <td>5</td>\n      <td>203650.0</td>\n      <td>18990.0</td>\n      <td>177070.0</td>\n      <td>5860.0</td>\n      <td>122670.0</td>\n      <td>565930.0</td>\n      <td>185150.0</td>\n      <td>1260.0</td>\n      <td>900.0</td>\n      <td>360.0</td>\n      <td>27387096.0</td>\n      <td>203650.0</td>\n      <td>27664725.0</td>\n      <td>181410.0</td>\n      <td>20155298.0</td>\n      <td>113360.0</td>\n      <td>141176.0</td>\n      <td>69620.0</td>\n      <td>368076.0</td>\n      <td>64740.0</td>\n      <td>274484.0</td>\n      <td>107690.0</td>\n      <td>111331.0</td>\n      <td>38850.0</td>\n      <td>571411.0</td>\n      <td>59170.0</td>\n      <td>547842.0</td>\n      <td>32290.0</td>\n      <td>825820.0</td>\n      <td>69810.0</td>\n      <td>2690393.0</td>\n      <td>8720.0</td>\n      <td>4820.0</td>\n      <td>17488.0</td>\n      <td>45910.0</td>\n      <td>1038902.0</td>\n      <td>...</td>\n      <td>22740.0</td>\n      <td>31720.0</td>\n      <td>0.0</td>\n      <td>0.0</td>\n      <td>46520.0</td>\n      <td>63034.0</td>\n      <td>7940.0</td>\n      <td>2660.0</td>\n      <td>28990.0</td>\n      <td>113649.0</td>\n      <td>0.0</td>\n      <td>0.0</td>\n      <td>450.0</td>\n      <td>1574.0</td>\n      <td>1360.0</td>\n      <td>1325.0</td>\n      <td>201900.0</td>\n      <td>3756035.0</td>\n      <td>0.0</td>\n      <td>0.0</td>\n      <td>0.0</td>\n      <td>0.0</td>\n      <td>90.0</td>\n      <td>120.0</td>\n      <td>20660.0</td>\n      <td>19605.0</td>\n      <td>0.0</td>\n      <td>0.0</td>\n      <td>202820.0</td>\n      <td>3501461.0</td>\n      <td>203050.0</td>\n      <td>3655700.0</td>\n      <td>610.0</td>\n      <td>135.0</td>\n      <td>270.0</td>\n      <td>66.0</td>\n      <td>81180.0</td>\n      <td>387298.0</td>\n      <td>114380.0</td>\n      <td>448442.0</td>\n    </tr>\n  </tbody>\n</table>\n<p>5 rows × 127 columns</p>\n</div>"
     },
     "metadata": {},
     "execution_count": 19
    }
   ],
   "source": [
    "income_df.head()"
   ]
  },
  {
   "cell_type": "code",
   "execution_count": 21,
   "metadata": {},
   "outputs": [],
   "source": [
    "# SAT Data\n",
    "sat_df = pd.read_csv('data/scores.csv')"
   ]
  },
  {
   "cell_type": "code",
   "execution_count": 22,
   "metadata": {},
   "outputs": [
    {
     "output_type": "execute_result",
     "data": {
      "text/plain": "  School ID  ... Percent Tested\n0    02M260  ...            NaN\n1    06M211  ...            NaN\n2    01M539  ...          91.0%\n3    02M294  ...          78.9%\n4    02M308  ...          65.1%\n\n[5 rows x 22 columns]",
      "text/html": "<div>\n<style scoped>\n    .dataframe tbody tr th:only-of-type {\n        vertical-align: middle;\n    }\n\n    .dataframe tbody tr th {\n        vertical-align: top;\n    }\n\n    .dataframe thead th {\n        text-align: right;\n    }\n</style>\n<table border=\"1\" class=\"dataframe\">\n  <thead>\n    <tr style=\"text-align: right;\">\n      <th></th>\n      <th>School ID</th>\n      <th>School Name</th>\n      <th>Borough</th>\n      <th>Building Code</th>\n      <th>Street Address</th>\n      <th>City</th>\n      <th>State</th>\n      <th>Zip Code</th>\n      <th>Latitude</th>\n      <th>Longitude</th>\n      <th>Phone Number</th>\n      <th>Start Time</th>\n      <th>End Time</th>\n      <th>Student Enrollment</th>\n      <th>Percent White</th>\n      <th>Percent Black</th>\n      <th>Percent Hispanic</th>\n      <th>Percent Asian</th>\n      <th>Average Score (SAT Math)</th>\n      <th>Average Score (SAT Reading)</th>\n      <th>Average Score (SAT Writing)</th>\n      <th>Percent Tested</th>\n    </tr>\n  </thead>\n  <tbody>\n    <tr>\n      <th>0</th>\n      <td>02M260</td>\n      <td>Clinton School Writers and Artists</td>\n      <td>Manhattan</td>\n      <td>M933</td>\n      <td>425 West 33rd Street</td>\n      <td>Manhattan</td>\n      <td>NY</td>\n      <td>10001</td>\n      <td>40.75321</td>\n      <td>-73.99786</td>\n      <td>212-695-9114</td>\n      <td>NaN</td>\n      <td>NaN</td>\n      <td>NaN</td>\n      <td>NaN</td>\n      <td>NaN</td>\n      <td>NaN</td>\n      <td>NaN</td>\n      <td>NaN</td>\n      <td>NaN</td>\n      <td>NaN</td>\n      <td>NaN</td>\n    </tr>\n    <tr>\n      <th>1</th>\n      <td>06M211</td>\n      <td>Inwood Early College for Health and Informatio...</td>\n      <td>Manhattan</td>\n      <td>M052</td>\n      <td>650 Academy Street</td>\n      <td>Manhattan</td>\n      <td>NY</td>\n      <td>10002</td>\n      <td>40.86605</td>\n      <td>-73.92486</td>\n      <td>718-935-3660</td>\n      <td>8:30 AM</td>\n      <td>3:00 PM</td>\n      <td>87.0</td>\n      <td>3.4%</td>\n      <td>21.8%</td>\n      <td>67.8%</td>\n      <td>4.6%</td>\n      <td>NaN</td>\n      <td>NaN</td>\n      <td>NaN</td>\n      <td>NaN</td>\n    </tr>\n    <tr>\n      <th>2</th>\n      <td>01M539</td>\n      <td>New Explorations into Science, Technology and ...</td>\n      <td>Manhattan</td>\n      <td>M022</td>\n      <td>111 Columbia Street</td>\n      <td>Manhattan</td>\n      <td>NY</td>\n      <td>10002</td>\n      <td>40.71873</td>\n      <td>-73.97943</td>\n      <td>212-677-5190</td>\n      <td>8:15 AM</td>\n      <td>4:00 PM</td>\n      <td>1735.0</td>\n      <td>28.6%</td>\n      <td>13.3%</td>\n      <td>18.0%</td>\n      <td>38.5%</td>\n      <td>657.0</td>\n      <td>601.0</td>\n      <td>601.0</td>\n      <td>91.0%</td>\n    </tr>\n    <tr>\n      <th>3</th>\n      <td>02M294</td>\n      <td>Essex Street Academy</td>\n      <td>Manhattan</td>\n      <td>M445</td>\n      <td>350 Grand Street</td>\n      <td>Manhattan</td>\n      <td>NY</td>\n      <td>10002</td>\n      <td>40.71687</td>\n      <td>-73.98953</td>\n      <td>212-475-4773</td>\n      <td>8:00 AM</td>\n      <td>2:45 PM</td>\n      <td>358.0</td>\n      <td>11.7%</td>\n      <td>38.5%</td>\n      <td>41.3%</td>\n      <td>5.9%</td>\n      <td>395.0</td>\n      <td>411.0</td>\n      <td>387.0</td>\n      <td>78.9%</td>\n    </tr>\n    <tr>\n      <th>4</th>\n      <td>02M308</td>\n      <td>Lower Manhattan Arts Academy</td>\n      <td>Manhattan</td>\n      <td>M445</td>\n      <td>350 Grand Street</td>\n      <td>Manhattan</td>\n      <td>NY</td>\n      <td>10002</td>\n      <td>40.71687</td>\n      <td>-73.98953</td>\n      <td>212-505-0143</td>\n      <td>8:30 AM</td>\n      <td>3:00 PM</td>\n      <td>383.0</td>\n      <td>3.1%</td>\n      <td>28.2%</td>\n      <td>56.9%</td>\n      <td>8.6%</td>\n      <td>418.0</td>\n      <td>428.0</td>\n      <td>415.0</td>\n      <td>65.1%</td>\n    </tr>\n  </tbody>\n</table>\n</div>"
     },
     "metadata": {},
     "execution_count": 22
    }
   ],
   "source": [
    "sat_df.head()"
   ]
  },
  {
   "cell_type": "code",
   "execution_count": 23,
   "metadata": {},
   "outputs": [],
   "source": [
    "# Neighborhood Data\n",
    "neighborhood_df = pd.read_csv('data/ny_neighborhood_venu_cat_count.csv')"
   ]
  },
  {
   "cell_type": "code",
   "execution_count": 24,
   "metadata": {},
   "outputs": [
    {
     "output_type": "execute_result",
     "data": {
      "text/plain": "   Unnamed: 0   Neighborhood  ...  Wings Joint  Women's Store\n0           0       Allerton  ...            0              0\n1           1       Annadale  ...            0              0\n2           2  Arden Heights  ...            0              0\n3           3      Arlington  ...            0              0\n4           4       Arrochar  ...            0              0\n\n[5 rows x 428 columns]",
      "text/html": "<div>\n<style scoped>\n    .dataframe tbody tr th:only-of-type {\n        vertical-align: middle;\n    }\n\n    .dataframe tbody tr th {\n        vertical-align: top;\n    }\n\n    .dataframe thead th {\n        text-align: right;\n    }\n</style>\n<table border=\"1\" class=\"dataframe\">\n  <thead>\n    <tr style=\"text-align: right;\">\n      <th></th>\n      <th>Unnamed: 0</th>\n      <th>Neighborhood</th>\n      <th>Yoga Studio</th>\n      <th>Accessories Store</th>\n      <th>Adult Boutique</th>\n      <th>Afghan Restaurant</th>\n      <th>African Restaurant</th>\n      <th>American Restaurant</th>\n      <th>Animal Shelter</th>\n      <th>Antique Shop</th>\n      <th>Arcade</th>\n      <th>Arepa Restaurant</th>\n      <th>Argentinian Restaurant</th>\n      <th>Art Gallery</th>\n      <th>Art Museum</th>\n      <th>Arts &amp; Crafts Store</th>\n      <th>Arts &amp; Entertainment</th>\n      <th>Asian Restaurant</th>\n      <th>Astrologer</th>\n      <th>Athletics &amp; Sports</th>\n      <th>Auditorium</th>\n      <th>Australian Restaurant</th>\n      <th>Austrian Restaurant</th>\n      <th>Auto Garage</th>\n      <th>Automotive Shop</th>\n      <th>BBQ Joint</th>\n      <th>Baby Store</th>\n      <th>Bagel Shop</th>\n      <th>Bakery</th>\n      <th>Bank</th>\n      <th>Bar</th>\n      <th>Baseball Field</th>\n      <th>Baseball Stadium</th>\n      <th>Basketball Court</th>\n      <th>Basketball Stadium</th>\n      <th>Bath House</th>\n      <th>Beach</th>\n      <th>Beach Bar</th>\n      <th>Bed &amp; Breakfast</th>\n      <th>Beer Bar</th>\n      <th>...</th>\n      <th>Tea Room</th>\n      <th>Tech Startup</th>\n      <th>Temple</th>\n      <th>Tennis Court</th>\n      <th>Tennis Stadium</th>\n      <th>Tex-Mex Restaurant</th>\n      <th>Thai Restaurant</th>\n      <th>Theater</th>\n      <th>Theme Park</th>\n      <th>Theme Park Ride / Attraction</th>\n      <th>Thrift / Vintage Store</th>\n      <th>Tibetan Restaurant</th>\n      <th>Tiki Bar</th>\n      <th>Toll Plaza</th>\n      <th>Tourist Information Center</th>\n      <th>Toy / Game Store</th>\n      <th>Track</th>\n      <th>Trail</th>\n      <th>Train</th>\n      <th>Train Station</th>\n      <th>Turkish Restaurant</th>\n      <th>Udon Restaurant</th>\n      <th>Used Bookstore</th>\n      <th>Vape Store</th>\n      <th>Varenyky restaurant</th>\n      <th>Vegetarian / Vegan Restaurant</th>\n      <th>Veterinarian</th>\n      <th>Video Game Store</th>\n      <th>Video Store</th>\n      <th>Vietnamese Restaurant</th>\n      <th>Volleyball Court</th>\n      <th>Warehouse Store</th>\n      <th>Waste Facility</th>\n      <th>Waterfront</th>\n      <th>Weight Loss Center</th>\n      <th>Whisky Bar</th>\n      <th>Wine Bar</th>\n      <th>Wine Shop</th>\n      <th>Wings Joint</th>\n      <th>Women's Store</th>\n    </tr>\n  </thead>\n  <tbody>\n    <tr>\n      <th>0</th>\n      <td>0</td>\n      <td>Allerton</td>\n      <td>0</td>\n      <td>0</td>\n      <td>0</td>\n      <td>0</td>\n      <td>0</td>\n      <td>1</td>\n      <td>0</td>\n      <td>0</td>\n      <td>0</td>\n      <td>0</td>\n      <td>0</td>\n      <td>0</td>\n      <td>0</td>\n      <td>0</td>\n      <td>0</td>\n      <td>0</td>\n      <td>0</td>\n      <td>0</td>\n      <td>0</td>\n      <td>0</td>\n      <td>0</td>\n      <td>0</td>\n      <td>0</td>\n      <td>0</td>\n      <td>0</td>\n      <td>0</td>\n      <td>1</td>\n      <td>0</td>\n      <td>0</td>\n      <td>0</td>\n      <td>0</td>\n      <td>0</td>\n      <td>0</td>\n      <td>0</td>\n      <td>0</td>\n      <td>0</td>\n      <td>0</td>\n      <td>0</td>\n      <td>...</td>\n      <td>0</td>\n      <td>0</td>\n      <td>0</td>\n      <td>0</td>\n      <td>0</td>\n      <td>0</td>\n      <td>0</td>\n      <td>0</td>\n      <td>0</td>\n      <td>0</td>\n      <td>0</td>\n      <td>0</td>\n      <td>0</td>\n      <td>0</td>\n      <td>0</td>\n      <td>0</td>\n      <td>0</td>\n      <td>0</td>\n      <td>0</td>\n      <td>0</td>\n      <td>0</td>\n      <td>0</td>\n      <td>0</td>\n      <td>0</td>\n      <td>0</td>\n      <td>0</td>\n      <td>0</td>\n      <td>0</td>\n      <td>0</td>\n      <td>0</td>\n      <td>0</td>\n      <td>0</td>\n      <td>0</td>\n      <td>0</td>\n      <td>0</td>\n      <td>0</td>\n      <td>0</td>\n      <td>0</td>\n      <td>0</td>\n      <td>0</td>\n    </tr>\n    <tr>\n      <th>1</th>\n      <td>1</td>\n      <td>Annadale</td>\n      <td>0</td>\n      <td>0</td>\n      <td>0</td>\n      <td>0</td>\n      <td>0</td>\n      <td>2</td>\n      <td>0</td>\n      <td>0</td>\n      <td>0</td>\n      <td>0</td>\n      <td>0</td>\n      <td>0</td>\n      <td>0</td>\n      <td>0</td>\n      <td>0</td>\n      <td>0</td>\n      <td>0</td>\n      <td>0</td>\n      <td>0</td>\n      <td>0</td>\n      <td>0</td>\n      <td>0</td>\n      <td>0</td>\n      <td>0</td>\n      <td>0</td>\n      <td>0</td>\n      <td>0</td>\n      <td>0</td>\n      <td>0</td>\n      <td>0</td>\n      <td>0</td>\n      <td>0</td>\n      <td>0</td>\n      <td>0</td>\n      <td>0</td>\n      <td>0</td>\n      <td>0</td>\n      <td>0</td>\n      <td>...</td>\n      <td>0</td>\n      <td>0</td>\n      <td>0</td>\n      <td>0</td>\n      <td>0</td>\n      <td>0</td>\n      <td>0</td>\n      <td>0</td>\n      <td>0</td>\n      <td>0</td>\n      <td>0</td>\n      <td>0</td>\n      <td>0</td>\n      <td>0</td>\n      <td>0</td>\n      <td>0</td>\n      <td>0</td>\n      <td>0</td>\n      <td>0</td>\n      <td>1</td>\n      <td>0</td>\n      <td>0</td>\n      <td>0</td>\n      <td>0</td>\n      <td>0</td>\n      <td>0</td>\n      <td>0</td>\n      <td>0</td>\n      <td>0</td>\n      <td>0</td>\n      <td>0</td>\n      <td>0</td>\n      <td>0</td>\n      <td>0</td>\n      <td>0</td>\n      <td>0</td>\n      <td>0</td>\n      <td>0</td>\n      <td>0</td>\n      <td>0</td>\n    </tr>\n    <tr>\n      <th>2</th>\n      <td>2</td>\n      <td>Arden Heights</td>\n      <td>0</td>\n      <td>0</td>\n      <td>0</td>\n      <td>0</td>\n      <td>0</td>\n      <td>0</td>\n      <td>0</td>\n      <td>0</td>\n      <td>0</td>\n      <td>0</td>\n      <td>0</td>\n      <td>0</td>\n      <td>0</td>\n      <td>0</td>\n      <td>0</td>\n      <td>0</td>\n      <td>0</td>\n      <td>0</td>\n      <td>0</td>\n      <td>0</td>\n      <td>0</td>\n      <td>0</td>\n      <td>0</td>\n      <td>0</td>\n      <td>0</td>\n      <td>0</td>\n      <td>0</td>\n      <td>0</td>\n      <td>0</td>\n      <td>0</td>\n      <td>0</td>\n      <td>0</td>\n      <td>0</td>\n      <td>0</td>\n      <td>0</td>\n      <td>0</td>\n      <td>0</td>\n      <td>0</td>\n      <td>...</td>\n      <td>0</td>\n      <td>0</td>\n      <td>0</td>\n      <td>0</td>\n      <td>0</td>\n      <td>0</td>\n      <td>0</td>\n      <td>0</td>\n      <td>0</td>\n      <td>0</td>\n      <td>0</td>\n      <td>0</td>\n      <td>0</td>\n      <td>0</td>\n      <td>0</td>\n      <td>0</td>\n      <td>0</td>\n      <td>0</td>\n      <td>0</td>\n      <td>0</td>\n      <td>0</td>\n      <td>0</td>\n      <td>0</td>\n      <td>0</td>\n      <td>0</td>\n      <td>0</td>\n      <td>0</td>\n      <td>0</td>\n      <td>0</td>\n      <td>0</td>\n      <td>0</td>\n      <td>0</td>\n      <td>0</td>\n      <td>0</td>\n      <td>0</td>\n      <td>0</td>\n      <td>0</td>\n      <td>0</td>\n      <td>0</td>\n      <td>0</td>\n    </tr>\n    <tr>\n      <th>3</th>\n      <td>3</td>\n      <td>Arlington</td>\n      <td>0</td>\n      <td>0</td>\n      <td>0</td>\n      <td>0</td>\n      <td>0</td>\n      <td>1</td>\n      <td>0</td>\n      <td>0</td>\n      <td>0</td>\n      <td>0</td>\n      <td>0</td>\n      <td>0</td>\n      <td>0</td>\n      <td>0</td>\n      <td>0</td>\n      <td>0</td>\n      <td>0</td>\n      <td>0</td>\n      <td>0</td>\n      <td>0</td>\n      <td>0</td>\n      <td>0</td>\n      <td>0</td>\n      <td>0</td>\n      <td>0</td>\n      <td>0</td>\n      <td>0</td>\n      <td>0</td>\n      <td>0</td>\n      <td>0</td>\n      <td>0</td>\n      <td>0</td>\n      <td>0</td>\n      <td>0</td>\n      <td>0</td>\n      <td>0</td>\n      <td>0</td>\n      <td>0</td>\n      <td>...</td>\n      <td>0</td>\n      <td>0</td>\n      <td>0</td>\n      <td>0</td>\n      <td>0</td>\n      <td>0</td>\n      <td>0</td>\n      <td>0</td>\n      <td>0</td>\n      <td>0</td>\n      <td>0</td>\n      <td>0</td>\n      <td>0</td>\n      <td>0</td>\n      <td>0</td>\n      <td>0</td>\n      <td>0</td>\n      <td>0</td>\n      <td>0</td>\n      <td>0</td>\n      <td>0</td>\n      <td>0</td>\n      <td>0</td>\n      <td>0</td>\n      <td>0</td>\n      <td>0</td>\n      <td>0</td>\n      <td>0</td>\n      <td>0</td>\n      <td>0</td>\n      <td>0</td>\n      <td>0</td>\n      <td>0</td>\n      <td>0</td>\n      <td>0</td>\n      <td>0</td>\n      <td>0</td>\n      <td>0</td>\n      <td>0</td>\n      <td>0</td>\n    </tr>\n    <tr>\n      <th>4</th>\n      <td>4</td>\n      <td>Arrochar</td>\n      <td>0</td>\n      <td>0</td>\n      <td>0</td>\n      <td>0</td>\n      <td>0</td>\n      <td>0</td>\n      <td>0</td>\n      <td>0</td>\n      <td>0</td>\n      <td>0</td>\n      <td>0</td>\n      <td>0</td>\n      <td>0</td>\n      <td>0</td>\n      <td>0</td>\n      <td>0</td>\n      <td>0</td>\n      <td>1</td>\n      <td>0</td>\n      <td>0</td>\n      <td>0</td>\n      <td>0</td>\n      <td>0</td>\n      <td>0</td>\n      <td>0</td>\n      <td>1</td>\n      <td>0</td>\n      <td>0</td>\n      <td>0</td>\n      <td>0</td>\n      <td>0</td>\n      <td>0</td>\n      <td>0</td>\n      <td>0</td>\n      <td>0</td>\n      <td>0</td>\n      <td>0</td>\n      <td>0</td>\n      <td>...</td>\n      <td>0</td>\n      <td>0</td>\n      <td>0</td>\n      <td>0</td>\n      <td>0</td>\n      <td>0</td>\n      <td>0</td>\n      <td>0</td>\n      <td>0</td>\n      <td>0</td>\n      <td>0</td>\n      <td>0</td>\n      <td>0</td>\n      <td>0</td>\n      <td>0</td>\n      <td>0</td>\n      <td>0</td>\n      <td>0</td>\n      <td>0</td>\n      <td>0</td>\n      <td>0</td>\n      <td>0</td>\n      <td>0</td>\n      <td>0</td>\n      <td>0</td>\n      <td>0</td>\n      <td>0</td>\n      <td>0</td>\n      <td>0</td>\n      <td>0</td>\n      <td>0</td>\n      <td>0</td>\n      <td>0</td>\n      <td>0</td>\n      <td>0</td>\n      <td>0</td>\n      <td>0</td>\n      <td>0</td>\n      <td>0</td>\n      <td>0</td>\n    </tr>\n  </tbody>\n</table>\n<p>5 rows × 428 columns</p>\n</div>"
     },
     "metadata": {},
     "execution_count": 24
    }
   ],
   "source": [
    "neighborhood_df.head()"
   ]
  },
  {
   "cell_type": "markdown",
   "metadata": {},
   "source": [
    "# 5. Data understanding"
   ]
  },
  {
   "cell_type": "markdown",
   "metadata": {},
   "source": [
    "# 6. Data Preparation"
   ]
  },
  {
   "cell_type": "markdown",
   "metadata": {},
   "source": [
    "# 7. Modeling"
   ]
  },
  {
   "cell_type": "markdown",
   "metadata": {},
   "source": [
    "# 8. Evaluation"
   ]
  },
  {
   "cell_type": "markdown",
   "metadata": {},
   "source": [
    "# 9. Deployment"
   ]
  },
  {
   "cell_type": "markdown",
   "metadata": {},
   "source": [
    "# 10. Feedback"
   ]
  }
 ],
 "metadata": {
  "language_info": {
   "codemirror_mode": {
    "name": "ipython",
    "version": 3
   },
   "file_extension": ".py",
   "mimetype": "text/x-python",
   "name": "python",
   "nbconvert_exporter": "python",
   "pygments_lexer": "ipython3",
   "version": "3.8.2-final"
  },
  "orig_nbformat": 2,
  "kernelspec": {
   "name": "python38264bita7224e095fd2487f8cc68b5f4fe87259",
   "display_name": "Python 3.8.2 64-bit"
  }
 },
 "nbformat": 4,
 "nbformat_minor": 2
}